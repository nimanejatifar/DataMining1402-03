{
 "cells": [
  {
   "cell_type": "code",
   "execution_count": 7,
   "id": "fcdd7caa",
   "metadata": {},
   "outputs": [],
   "source": [
    "def function_name(inputs):\n",
    "    # docstring\n",
    "    # algorithms\n",
    "    return outputs"
   ]
  },
  {
   "cell_type": "code",
   "execution_count": 1,
   "id": "35344439",
   "metadata": {},
   "outputs": [],
   "source": [
    "def koochiktarin_fasele(a, b, c):\n",
    "    \"\"\"\n",
    "    it returns the smallest difference between any two numbers among a, b and c.\n",
    "    for example:\n",
    "    >>>koochiktarin_fasele(2, 4, 7)\n",
    "    2\n",
    "    \"\"\"\n",
    "    a1 = abs(a - b)\n",
    "    a2 = abs(a - c)\n",
    "    a3 = abs(b - c)\n",
    "    return min(a1, a2, a3)"
   ]
  },
  {
   "cell_type": "code",
   "execution_count": 2,
   "id": "95c5a586",
   "metadata": {},
   "outputs": [
    {
     "name": "stdout",
     "output_type": "stream",
     "text": [
      "Help on function koochiktarin_fasele in module __main__:\n",
      "\n",
      "koochiktarin_fasele(a, b, c)\n",
      "    it returns the smallest difference between any two numbers among a, b and c.\n",
      "    for example:\n",
      "    >>>koochiktarin_fasele(2, 4, 7)\n",
      "    2\n",
      "\n"
     ]
    }
   ],
   "source": [
    "help(koochiktarin_fasele)"
   ]
  },
  {
   "cell_type": "code",
   "execution_count": 6,
   "id": "aae14077",
   "metadata": {},
   "outputs": [
    {
     "data": {
      "text/plain": [
       "6"
      ]
     },
     "execution_count": 6,
     "metadata": {},
     "output_type": "execute_result"
    }
   ],
   "source": [
    "koochiktarin_fasele(1 , -5, 10)"
   ]
  },
  {
   "cell_type": "code",
   "execution_count": 1,
   "id": "3b02016c",
   "metadata": {},
   "outputs": [],
   "source": [
    "def speed(speed):\n",
    "    if speed >= 120:\n",
    "        x = \"Fast\"\n",
    "    elif speed >= 80 and speed < 120:\n",
    "        x = \"Normal\"\n",
    "    else:\n",
    "        x = \"Slow\"\n",
    "        \n",
    "    return x"
   ]
  },
  {
   "cell_type": "code",
   "execution_count": 9,
   "id": "3c6bb2df",
   "metadata": {},
   "outputs": [
    {
     "data": {
      "text/plain": [
       "'Normal'"
      ]
     },
     "execution_count": 9,
     "metadata": {},
     "output_type": "execute_result"
    }
   ],
   "source": [
    "speed(94)"
   ]
  },
  {
   "cell_type": "code",
   "execution_count": 10,
   "id": "cb2ba563",
   "metadata": {},
   "outputs": [
    {
     "data": {
      "text/plain": [
       "'Slow'"
      ]
     },
     "execution_count": 10,
     "metadata": {},
     "output_type": "execute_result"
    }
   ],
   "source": [
    "speed(45)"
   ]
  },
  {
   "cell_type": "code",
   "execution_count": 2,
   "id": "c6947def",
   "metadata": {},
   "outputs": [
    {
     "name": "stdout",
     "output_type": "stream",
     "text": [
      "Speed : 100\n"
     ]
    },
    {
     "data": {
      "text/plain": [
       "'Normal'"
      ]
     },
     "execution_count": 2,
     "metadata": {},
     "output_type": "execute_result"
    }
   ],
   "source": [
    "S = int(input(\"Speed : \"))\n",
    "speed(S)"
   ]
  },
  {
   "cell_type": "code",
   "execution_count": null,
   "id": "d9364df5",
   "metadata": {},
   "outputs": [],
   "source": []
  },
  {
   "cell_type": "code",
   "execution_count": null,
   "id": "2f9cca4e",
   "metadata": {},
   "outputs": [],
   "source": []
  },
  {
   "cell_type": "code",
   "execution_count": null,
   "id": "69fb223b",
   "metadata": {},
   "outputs": [],
   "source": []
  },
  {
   "cell_type": "markdown",
   "id": "4b634c1a",
   "metadata": {},
   "source": [
    "# Lambda"
   ]
  },
  {
   "cell_type": "code",
   "execution_count": 16,
   "id": "0565921f",
   "metadata": {},
   "outputs": [],
   "source": [
    "# lambda function has no name ( one expression )"
   ]
  },
  {
   "cell_type": "code",
   "execution_count": 17,
   "id": "b20f805c",
   "metadata": {},
   "outputs": [],
   "source": [
    "# A = lambda input : algorithms"
   ]
  },
  {
   "cell_type": "code",
   "execution_count": 7,
   "id": "b3aab01c",
   "metadata": {},
   "outputs": [
    {
     "data": {
      "text/plain": [
       "[0, 1, 4, 9, 16]"
      ]
     },
     "execution_count": 7,
     "metadata": {},
     "output_type": "execute_result"
    }
   ],
   "source": [
    "L1 = [(lambda x:x**2) (x) for x in range(5)]\n",
    "L1"
   ]
  },
  {
   "cell_type": "code",
   "execution_count": 27,
   "id": "7dff04f1",
   "metadata": {},
   "outputs": [
    {
     "data": {
      "text/plain": [
       "25"
      ]
     },
     "execution_count": 27,
     "metadata": {},
     "output_type": "execute_result"
    }
   ],
   "source": [
    "L2 = lambda x: x**2\n",
    "L2(5)"
   ]
  },
  {
   "cell_type": "code",
   "execution_count": 31,
   "id": "341c1c44",
   "metadata": {},
   "outputs": [
    {
     "data": {
      "text/plain": [
       "True"
      ]
     },
     "execution_count": 31,
     "metadata": {},
     "output_type": "execute_result"
    }
   ],
   "source": [
    "L3 = lambda x: x%3 == 0\n",
    "L3(235872)"
   ]
  },
  {
   "cell_type": "code",
   "execution_count": null,
   "id": "9e0edfcc",
   "metadata": {},
   "outputs": [],
   "source": []
  }
 ],
 "metadata": {
  "kernelspec": {
   "display_name": "Python 3 (ipykernel)",
   "language": "python",
   "name": "python3"
  },
  "language_info": {
   "codemirror_mode": {
    "name": "ipython",
    "version": 3
   },
   "file_extension": ".py",
   "mimetype": "text/x-python",
   "name": "python",
   "nbconvert_exporter": "python",
   "pygments_lexer": "ipython3",
   "version": "3.9.13"
  }
 },
 "nbformat": 4,
 "nbformat_minor": 5
}
