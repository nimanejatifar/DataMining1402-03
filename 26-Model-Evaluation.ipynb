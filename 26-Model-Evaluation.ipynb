{
 "cells": [
  {
   "cell_type": "markdown",
   "id": "1a57c333",
   "metadata": {},
   "source": [
    "# Model Evaluation\n",
    "## Scoring Metrics, Confusion Matrix, and Dealing with Imbalanced Classes"
   ]
  },
  {
   "cell_type": "code",
   "execution_count": 2,
   "id": "2044391b",
   "metadata": {},
   "outputs": [],
   "source": [
    "import warnings\n",
    "warnings.filterwarnings('ignore')\n",
    "import numpy as np\n",
    "import matplotlib.pyplot as plt\n",
    "np.set_printoptions(precision=2)"
   ]
  },
  {
   "cell_type": "code",
   "execution_count": 3,
   "id": "abebe676",
   "metadata": {},
   "outputs": [],
   "source": [
    "from sklearn.datasets import load_digits\n",
    "from sklearn.model_selection import train_test_split\n",
    "from sklearn.svm import LinearSVC\n",
    "\n",
    "digits = load_digits()\n",
    "X, y = digits.data, digits.target\n",
    "X_train, X_test, y_train, y_test = train_test_split(X, y, \n",
    "                                                    random_state=21,\n",
    "                                                    stratify=y,\n",
    "                                                    test_size=0.2)\n"
   ]
  },
  {
   "cell_type": "code",
   "execution_count": 4,
   "id": "25179ccd",
   "metadata": {},
   "outputs": [
    {
     "data": {
      "text/plain": [
       "(1437, 64)"
      ]
     },
     "execution_count": 4,
     "metadata": {},
     "output_type": "execute_result"
    }
   ],
   "source": [
    "X_train.shape"
   ]
  },
  {
   "cell_type": "code",
   "execution_count": 5,
   "id": "ab9d7c71",
   "metadata": {},
   "outputs": [
    {
     "data": {
      "text/plain": [
       "(360, 64)"
      ]
     },
     "execution_count": 5,
     "metadata": {},
     "output_type": "execute_result"
    }
   ],
   "source": [
    "X_test.shape"
   ]
  },
  {
   "cell_type": "code",
   "execution_count": 6,
   "id": "e2be3908",
   "metadata": {},
   "outputs": [
    {
     "name": "stdout",
     "output_type": "stream",
     "text": [
      "Accuracy: 0.9361111111111111\n"
     ]
    }
   ],
   "source": [
    "classifier = LinearSVC(random_state=1).fit(X_train, y_train)\n",
    "y_test_pred = classifier.predict(X_test)\n",
    "\n",
    "print(\"Accuracy: {}\".format(classifier.score(X_test, y_test)))"
   ]
  },
  {
   "cell_type": "code",
   "execution_count": 7,
   "id": "153f185e",
   "metadata": {},
   "outputs": [
    {
     "data": {
      "text/plain": [
       "array([6, 6, 2, 5, 4, 1, 2, 4, 5, 3, 3, 9, 4, 2, 9, 1, 8, 6, 8, 6, 0, 5,\n",
       "       4, 8, 3, 0, 0, 3, 1, 2, 0, 8, 1, 6, 8, 0, 2, 4, 4, 2, 1, 6, 8, 5,\n",
       "       7, 8, 9, 1, 2, 9, 3, 1, 0, 8, 4, 8, 3, 8, 7, 9, 9, 5, 9, 2, 7, 6,\n",
       "       2, 1, 0, 0, 1, 6, 5, 7, 2, 8, 2, 9, 1, 1, 6, 2, 1, 1, 7, 3, 4, 2,\n",
       "       3, 2, 4, 7, 3, 1, 0, 5, 9, 3, 7, 4, 7, 3, 4, 6, 9, 1, 4, 0, 3, 4,\n",
       "       0, 7, 8, 1, 5, 5, 0, 0, 9, 5, 4, 8, 9, 6, 0, 8, 7, 7, 3, 6, 4, 5,\n",
       "       7, 3, 9, 7, 6, 1, 0, 7, 5, 5, 9, 5, 7, 7, 1, 7, 4, 7, 2, 6, 2, 8,\n",
       "       4, 2, 8, 8, 9, 5, 7, 9, 5, 5, 1, 0, 4, 5, 2, 2, 0, 3, 3, 7, 8, 0,\n",
       "       7, 7, 3, 1, 1, 7, 0, 6, 6, 2, 9, 5, 3, 6, 3, 3, 4, 8, 1, 5, 0, 1,\n",
       "       9, 0, 3, 2, 1, 5, 2, 5, 1, 1, 7, 8, 5, 6, 0, 2, 9, 7, 5, 7, 8, 7,\n",
       "       3, 6, 1, 4, 5, 4, 6, 2, 5, 9, 5, 4, 0, 3, 4, 9, 9, 9, 9, 3, 3, 0,\n",
       "       0, 9, 8, 7, 5, 2, 0, 0, 5, 8, 4, 0, 9, 2, 4, 3, 9, 2, 0, 8, 1, 4,\n",
       "       4, 7, 0, 9, 3, 3, 6, 2, 5, 4, 5, 4, 1, 8, 3, 9, 1, 3, 1, 5, 6, 8,\n",
       "       6, 8, 8, 2, 6, 5, 7, 6, 2, 8, 8, 4, 9, 1, 6, 0, 2, 8, 3, 0, 5, 0,\n",
       "       4, 9, 2, 7, 0, 3, 4, 6, 9, 3, 0, 9, 4, 8, 8, 7, 3, 0, 1, 9, 4, 4,\n",
       "       3, 6, 5, 6, 6, 2, 4, 6, 7, 1, 7, 1, 5, 6, 9, 6, 6, 7, 8, 2, 1, 3,\n",
       "       2, 3, 9, 8, 5, 6, 7, 6])"
      ]
     },
     "execution_count": 7,
     "metadata": {},
     "output_type": "execute_result"
    }
   ],
   "source": [
    "y_test"
   ]
  },
  {
   "cell_type": "code",
   "execution_count": 8,
   "id": "fa6bf7ed",
   "metadata": {},
   "outputs": [
    {
     "data": {
      "text/plain": [
       "array([6, 6, 2, 5, 4, 1, 2, 4, 5, 3, 3, 9, 4, 2, 9, 1, 8, 6, 8, 6, 0, 5,\n",
       "       4, 8, 7, 0, 0, 3, 1, 2, 0, 1, 1, 6, 8, 0, 2, 4, 4, 2, 1, 6, 8, 5,\n",
       "       7, 8, 9, 1, 2, 9, 3, 1, 0, 8, 4, 8, 3, 8, 7, 9, 9, 5, 9, 2, 7, 6,\n",
       "       2, 1, 0, 0, 9, 1, 5, 7, 2, 8, 2, 9, 1, 1, 6, 2, 1, 1, 7, 3, 4, 2,\n",
       "       3, 2, 4, 7, 3, 1, 0, 5, 9, 3, 7, 4, 7, 3, 4, 6, 9, 1, 4, 0, 3, 4,\n",
       "       0, 9, 8, 1, 5, 5, 0, 0, 9, 5, 4, 8, 9, 6, 0, 8, 7, 7, 3, 6, 4, 5,\n",
       "       7, 3, 9, 7, 6, 1, 0, 7, 8, 5, 8, 5, 7, 5, 1, 7, 4, 7, 2, 6, 1, 8,\n",
       "       1, 2, 8, 1, 7, 5, 7, 9, 5, 7, 1, 0, 4, 5, 2, 2, 0, 3, 3, 7, 8, 0,\n",
       "       7, 7, 3, 1, 1, 7, 0, 6, 6, 2, 9, 5, 3, 6, 3, 3, 4, 8, 1, 5, 0, 3,\n",
       "       9, 0, 3, 2, 1, 5, 2, 5, 1, 1, 7, 8, 5, 6, 5, 2, 9, 7, 5, 7, 8, 7,\n",
       "       3, 6, 1, 4, 5, 4, 6, 2, 5, 9, 5, 4, 0, 3, 4, 9, 9, 9, 9, 3, 8, 0,\n",
       "       0, 9, 8, 7, 5, 2, 0, 0, 5, 8, 4, 0, 9, 2, 4, 3, 9, 2, 0, 1, 1, 4,\n",
       "       4, 7, 0, 9, 3, 3, 6, 2, 5, 4, 5, 4, 1, 5, 3, 9, 1, 3, 1, 5, 6, 8,\n",
       "       6, 8, 8, 2, 6, 5, 7, 6, 2, 8, 8, 4, 9, 1, 6, 0, 2, 8, 3, 0, 5, 0,\n",
       "       4, 9, 2, 7, 0, 3, 4, 6, 9, 3, 0, 1, 4, 1, 8, 7, 3, 0, 1, 8, 4, 7,\n",
       "       3, 6, 5, 6, 6, 2, 4, 6, 7, 1, 7, 1, 5, 6, 9, 6, 6, 5, 8, 2, 1, 3,\n",
       "       2, 3, 9, 8, 5, 6, 7, 6])"
      ]
     },
     "execution_count": 8,
     "metadata": {},
     "output_type": "execute_result"
    }
   ],
   "source": [
    "y_test_pred"
   ]
  },
  {
   "cell_type": "code",
   "execution_count": 9,
   "id": "df85d037",
   "metadata": {},
   "outputs": [
    {
     "data": {
      "text/plain": [
       "array([[35,  0,  0,  0,  0,  1,  0,  0,  0,  0],\n",
       "       [ 0, 34,  0,  1,  0,  0,  0,  0,  0,  1],\n",
       "       [ 0,  1, 34,  0,  0,  0,  0,  0,  0,  0],\n",
       "       [ 0,  0,  0, 35,  0,  0,  0,  1,  1,  0],\n",
       "       [ 0,  1,  0,  0, 34,  0,  0,  1,  0,  0],\n",
       "       [ 0,  0,  0,  0,  0, 35,  0,  1,  1,  0],\n",
       "       [ 0,  1,  0,  0,  0,  0, 35,  0,  0,  0],\n",
       "       [ 0,  0,  0,  0,  0,  2,  0, 33,  0,  1],\n",
       "       [ 0,  4,  0,  0,  0,  1,  0,  0, 30,  0],\n",
       "       [ 0,  1,  0,  0,  0,  0,  0,  1,  2, 32]], dtype=int64)"
      ]
     },
     "execution_count": 9,
     "metadata": {},
     "output_type": "execute_result"
    }
   ],
   "source": [
    "from sklearn.metrics import confusion_matrix\n",
    "confusion_matrix(y_test, y_test_pred)\n",
    "# rows : gt\n",
    "# columns : predictions"
   ]
  },
  {
   "cell_type": "code",
   "execution_count": 10,
   "id": "6b59f8d7",
   "metadata": {},
   "outputs": [
    {
     "data": {
      "image/png": "[encoded data removed]",
      "text/plain": [
       "<Figure size 480x480 with 2 Axes>"
      ]
     },
     "metadata": {},
     "output_type": "display_data"
    }
   ],
   "source": [
    "plt.matshow(confusion_matrix(y_test, y_test_pred), cmap=\"Greens\")\n",
    "plt.colorbar(shrink=0.6)\n",
    "plt.xticks(range(10))\n",
    "plt.yticks(range(10))\n",
    "plt.xlabel(\"Predicted Label\")\n",
    "plt.ylabel(\"True Label\");"
   ]
  },
  {
   "cell_type": "markdown",
   "id": "b142790b",
   "metadata": {},
   "source": [
    "\n",
    "\n"
   ]
  },
  {
   "cell_type": "markdown",
   "id": "c87b32c7",
   "metadata": {},
   "source": [
    "<img src=\"imgs/conf-matrix.png\" width=\"90%\">\n",
    "<img src=\"imgs/type-errors.jpg\" width=\"70%\">"
   ]
  },
  {
   "cell_type": "markdown",
   "id": "0d500f32",
   "metadata": {},
   "source": [
    "[Source](https://towardsdatascience.com/baffling-concept-of-true-positive-and-true-negative-bffbc340f107)"
   ]
  },
  {
   "cell_type": "markdown",
   "id": "ee170209",
   "metadata": {},
   "source": [
    "  "
   ]
  },
  {
   "cell_type": "markdown",
   "id": "207fdf49",
   "metadata": {},
   "source": [
    "<img src=\"imgs/conf2.png\" width=\"100%\">\n",
    "<img src=\"imgs/conf3.png\" width=\"100%\">"
   ]
  },
  {
   "cell_type": "markdown",
   "id": "4842c677",
   "metadata": {},
   "source": [
    "Another useful function is the ``classification_report`` which provides precision, recall, f-score and support for all classes.\n",
    "These metrics are helpful especially in the face of ``Imbalanced Data``\n",
    "\n",
    "\n",
    "TP: True Positive </br>\n",
    "FP: False Positive</br>\n",
    "TN: True Negative</br>\n",
    "FN: False Negative</br>\n",
    "\n",
    "Precision = TP / (TP + FP)\n",
    "\n",
    "Recall = TP / (TP + FN)\n",
    "\n",
    "F1 = 2 x (precision x recall) / (precision + recall)\n",
    "\n",
    "\n",
    "The values of all these values above are in the closed interval [0, 1], where 1 means a perfect score."
   ]
  },
  {
   "cell_type": "markdown",
   "id": "1bab7dd7",
   "metadata": {},
   "source": [
    "<img src=\"imgs/precision-recall.png\" width=\"90%\">"
   ]
  },
  {
   "cell_type": "code",
   "execution_count": 11,
   "id": "be3dd036",
   "metadata": {},
   "outputs": [
    {
     "name": "stdout",
     "output_type": "stream",
     "text": [
      "              precision    recall  f1-score   support\n",
      "\n",
      "           0       1.00      0.97      0.99        36\n",
      "           1       0.81      0.94      0.87        36\n",
      "           2       1.00      0.97      0.99        35\n",
      "           3       0.97      0.95      0.96        37\n",
      "           4       1.00      0.94      0.97        36\n",
      "           5       0.90      0.95      0.92        37\n",
      "           6       1.00      0.97      0.99        36\n",
      "           7       0.89      0.92      0.90        36\n",
      "           8       0.88      0.86      0.87        35\n",
      "           9       0.94      0.89      0.91        36\n",
      "\n",
      "    accuracy                           0.94       360\n",
      "   macro avg       0.94      0.94      0.94       360\n",
      "weighted avg       0.94      0.94      0.94       360\n",
      "\n"
     ]
    }
   ],
   "source": [
    "from sklearn.metrics import classification_report\n",
    "print(classification_report(y_test, y_test_pred))"
   ]
  },
  {
   "cell_type": "code",
   "execution_count": null,
   "id": "6563a097",
   "metadata": {},
   "outputs": [],
   "source": []
  },
  {
   "cell_type": "code",
   "execution_count": 12,
   "id": "72faf913",
   "metadata": {},
   "outputs": [
    {
     "data": {
      "text/plain": [
       "array([0.1, 0.1, 0.1, 0.1, 0.1, 0.1, 0.1, 0.1, 0.1, 0.1])"
      ]
     },
     "execution_count": 12,
     "metadata": {},
     "output_type": "execute_result"
    }
   ],
   "source": [
    "np.bincount(y) / y.shape[0]"
   ]
  },
  {
   "cell_type": "code",
   "execution_count": 13,
   "id": "ee62ec5d",
   "metadata": {},
   "outputs": [],
   "source": [
    "X, y = digits.data, digits.target == 5"
   ]
  },
  {
   "cell_type": "code",
   "execution_count": 18,
   "id": "b61dae5d",
   "metadata": {},
   "outputs": [],
   "source": [
    "# classes:  0: 0,1,2,3,4,6,7,8,9 \n",
    "#           1: 5"
   ]
  },
  {
   "cell_type": "code",
   "execution_count": 17,
   "id": "f21b93cc",
   "metadata": {},
   "outputs": [
    {
     "data": {
      "text/plain": [
       "array([0.9, 0.1])"
      ]
     },
     "execution_count": 17,
     "metadata": {},
     "output_type": "execute_result"
    }
   ],
   "source": [
    "np.bincount(y) / y.shape[0]"
   ]
  },
  {
   "cell_type": "code",
   "execution_count": 19,
   "id": "c0a352e8",
   "metadata": {},
   "outputs": [
    {
     "data": {
      "text/plain": [
       "array([0.99, 0.99, 0.99, 1.  , 0.99])"
      ]
     },
     "execution_count": 19,
     "metadata": {},
     "output_type": "execute_result"
    }
   ],
   "source": [
    "from sklearn.model_selection import cross_val_score\n",
    "from sklearn.svm import SVC\n",
    "\n",
    "cross_val_score(SVC(), X, y)"
   ]
  },
  {
   "cell_type": "code",
   "execution_count": 28,
   "id": "b54b54b9",
   "metadata": {},
   "outputs": [
    {
     "data": {
      "text/plain": [
       "array([0.9, 0.9, 0.9, 0.9, 0.9])"
      ]
     },
     "execution_count": 28,
     "metadata": {},
     "output_type": "execute_result"
    }
   ],
   "source": [
    "from sklearn.dummy import DummyClassifier\n",
    "cross_val_score(DummyClassifier(strategy=\"most_frequent\"), X, y)"
   ]
  }
 ],
 "metadata": {
  "kernelspec": {
   "display_name": "Python 3 (ipykernel)",
   "language": "python",
   "name": "python3"
  },
  "language_info": {
   "codemirror_mode": {
    "name": "ipython",
    "version": 3
   },
   "file_extension": ".py",
   "mimetype": "text/x-python",
   "name": "python",
   "nbconvert_exporter": "python",
   "pygments_lexer": "ipython3",
   "version": "3.9.13"
  }
 },
 "nbformat": 4,
 "nbformat_minor": 5
}
