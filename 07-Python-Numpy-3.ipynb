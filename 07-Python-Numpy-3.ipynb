{
 "cells": [
  {
   "cell_type": "code",
   "execution_count": 1,
   "id": "749de26a",
   "metadata": {},
   "outputs": [],
   "source": [
    "import numpy as np"
   ]
  },
  {
   "cell_type": "markdown",
   "id": "d4e68978",
   "metadata": {},
   "source": [
    "VSTACK , ROW_STACK , HSTACK , COLUMN_STACK ,\n",
    "CONCATENATE"
   ]
  },
  {
   "cell_type": "code",
   "execution_count": 2,
   "id": "0c114759",
   "metadata": {},
   "outputs": [
    {
     "data": {
      "text/plain": [
       "array([[23, 51, 96],\n",
       "       [26, 99, 71]])"
      ]
     },
     "execution_count": 2,
     "metadata": {},
     "output_type": "execute_result"
    }
   ],
   "source": [
    "A = np.random.randint(10,100, size=(2,3))\n",
    "A"
   ]
  },
  {
   "cell_type": "code",
   "execution_count": 3,
   "id": "d8a17293",
   "metadata": {},
   "outputs": [
    {
     "data": {
      "text/plain": [
       "array([[88, 79, 97],\n",
       "       [49, 28, 62]])"
      ]
     },
     "execution_count": 3,
     "metadata": {},
     "output_type": "execute_result"
    }
   ],
   "source": [
    "B = np.random.randint(10,100, size=(2,3))\n",
    "B"
   ]
  },
  {
   "cell_type": "code",
   "execution_count": 4,
   "id": "eff876d5",
   "metadata": {},
   "outputs": [
    {
     "data": {
      "text/plain": [
       "array([[23, 51, 96],\n",
       "       [26, 99, 71],\n",
       "       [88, 79, 97],\n",
       "       [49, 28, 62]])"
      ]
     },
     "execution_count": 4,
     "metadata": {},
     "output_type": "execute_result"
    }
   ],
   "source": [
    "np.vstack((A,B))"
   ]
  },
  {
   "cell_type": "code",
   "execution_count": 5,
   "id": "35059554",
   "metadata": {},
   "outputs": [
    {
     "data": {
      "text/plain": [
       "array([[23, 51, 96],\n",
       "       [26, 99, 71],\n",
       "       [88, 79, 97],\n",
       "       [49, 28, 62]])"
      ]
     },
     "execution_count": 5,
     "metadata": {},
     "output_type": "execute_result"
    }
   ],
   "source": [
    "np.row_stack((A,B))"
   ]
  },
  {
   "cell_type": "code",
   "execution_count": 6,
   "id": "f713437a",
   "metadata": {},
   "outputs": [
    {
     "data": {
      "text/plain": [
       "True"
      ]
     },
     "execution_count": 6,
     "metadata": {},
     "output_type": "execute_result"
    }
   ],
   "source": [
    "np.all( np.vstack((A,B)) == np.row_stack((A,B)) )"
   ]
  },
  {
   "cell_type": "code",
   "execution_count": 7,
   "id": "ddf0118b",
   "metadata": {},
   "outputs": [
    {
     "data": {
      "text/plain": [
       "array([[23, 51, 96, 88, 79, 97],\n",
       "       [26, 99, 71, 49, 28, 62]])"
      ]
     },
     "execution_count": 7,
     "metadata": {},
     "output_type": "execute_result"
    }
   ],
   "source": [
    "np.hstack((A,B))"
   ]
  },
  {
   "cell_type": "code",
   "execution_count": 8,
   "id": "ff31915b",
   "metadata": {},
   "outputs": [
    {
     "data": {
      "text/plain": [
       "array([[23, 51, 96, 88, 79, 97],\n",
       "       [26, 99, 71, 49, 28, 62]])"
      ]
     },
     "execution_count": 8,
     "metadata": {},
     "output_type": "execute_result"
    }
   ],
   "source": [
    "np.column_stack((A,B))"
   ]
  },
  {
   "cell_type": "code",
   "execution_count": 9,
   "id": "3f7d88d7",
   "metadata": {},
   "outputs": [
    {
     "data": {
      "text/plain": [
       "True"
      ]
     },
     "execution_count": 9,
     "metadata": {},
     "output_type": "execute_result"
    }
   ],
   "source": [
    "np.all( np.hstack((A,B)) == np.column_stack((A,B)) )"
   ]
  },
  {
   "cell_type": "code",
   "execution_count": null,
   "id": "fc61d6c7",
   "metadata": {},
   "outputs": [],
   "source": []
  },
  {
   "cell_type": "code",
   "execution_count": 10,
   "id": "597c4479",
   "metadata": {},
   "outputs": [
    {
     "data": {
      "text/plain": [
       "array([[23, 51, 96],\n",
       "       [26, 99, 71],\n",
       "       [88, 79, 97],\n",
       "       [49, 28, 62]])"
      ]
     },
     "execution_count": 10,
     "metadata": {},
     "output_type": "execute_result"
    }
   ],
   "source": [
    "np.concatenate((A,B))"
   ]
  },
  {
   "cell_type": "code",
   "execution_count": 11,
   "id": "e50975ce",
   "metadata": {},
   "outputs": [
    {
     "data": {
      "text/plain": [
       "True"
      ]
     },
     "execution_count": 11,
     "metadata": {},
     "output_type": "execute_result"
    }
   ],
   "source": [
    "np.all( np.vstack((A,B)) == np.concatenate((A,B)) )"
   ]
  },
  {
   "cell_type": "code",
   "execution_count": 12,
   "id": "af01cf80",
   "metadata": {},
   "outputs": [
    {
     "data": {
      "text/plain": [
       "array([[23, 51, 96, 88, 79, 97],\n",
       "       [26, 99, 71, 49, 28, 62]])"
      ]
     },
     "execution_count": 12,
     "metadata": {},
     "output_type": "execute_result"
    }
   ],
   "source": [
    "np.concatenate((A,B), axis=1)"
   ]
  },
  {
   "cell_type": "code",
   "execution_count": 13,
   "id": "35def8c8",
   "metadata": {},
   "outputs": [
    {
     "data": {
      "text/plain": [
       "True"
      ]
     },
     "execution_count": 13,
     "metadata": {},
     "output_type": "execute_result"
    }
   ],
   "source": [
    "np.all( np.hstack((A,B)) == np.concatenate((A,B), axis=1))"
   ]
  },
  {
   "cell_type": "code",
   "execution_count": null,
   "id": "0a394157",
   "metadata": {},
   "outputs": [],
   "source": []
  },
  {
   "cell_type": "code",
   "execution_count": 14,
   "id": "01f907d8",
   "metadata": {},
   "outputs": [
    {
     "data": {
      "text/plain": [
       "array([[86, 25, 39, 81],\n",
       "       [18, 35, 49, 87],\n",
       "       [81, 65, 46, 52]])"
      ]
     },
     "execution_count": 14,
     "metadata": {},
     "output_type": "execute_result"
    }
   ],
   "source": [
    "A = np.random.randint(10,100,(3,4))\n",
    "A"
   ]
  },
  {
   "cell_type": "code",
   "execution_count": 15,
   "id": "f42ea2cc",
   "metadata": {},
   "outputs": [
    {
     "data": {
      "text/plain": [
       "array([[93, 13, 99, 22],\n",
       "       [52, 95, 21, 60],\n",
       "       [98, 20, 91, 21]])"
      ]
     },
     "execution_count": 15,
     "metadata": {},
     "output_type": "execute_result"
    }
   ],
   "source": [
    "B = np.random.randint(10,100,(3,4))\n",
    "B"
   ]
  },
  {
   "cell_type": "code",
   "execution_count": 16,
   "id": "25ccc94e",
   "metadata": {},
   "outputs": [
    {
     "data": {
      "text/plain": [
       "array([[[86, 25, 39, 81],\n",
       "        [18, 35, 49, 87],\n",
       "        [81, 65, 46, 52]],\n",
       "\n",
       "       [[93, 13, 99, 22],\n",
       "        [52, 95, 21, 60],\n",
       "        [98, 20, 91, 21]]])"
      ]
     },
     "execution_count": 16,
     "metadata": {},
     "output_type": "execute_result"
    }
   ],
   "source": [
    "np.stack((A,B))"
   ]
  },
  {
   "cell_type": "code",
   "execution_count": 17,
   "id": "2a9cbbda",
   "metadata": {
    "scrolled": false
   },
   "outputs": [
    {
     "data": {
      "text/plain": [
       "array([[[86, 25, 39, 81],\n",
       "        [93, 13, 99, 22]],\n",
       "\n",
       "       [[18, 35, 49, 87],\n",
       "        [52, 95, 21, 60]],\n",
       "\n",
       "       [[81, 65, 46, 52],\n",
       "        [98, 20, 91, 21]]])"
      ]
     },
     "execution_count": 17,
     "metadata": {},
     "output_type": "execute_result"
    }
   ],
   "source": [
    "np.stack((A,B), axis=1)"
   ]
  },
  {
   "cell_type": "code",
   "execution_count": 18,
   "id": "bfb9e921",
   "metadata": {},
   "outputs": [
    {
     "data": {
      "text/plain": [
       "(3, 2, 4)"
      ]
     },
     "execution_count": 18,
     "metadata": {},
     "output_type": "execute_result"
    }
   ],
   "source": [
    "c = np.stack((A,B), axis=1)\n",
    "c.shape"
   ]
  },
  {
   "cell_type": "code",
   "execution_count": 19,
   "id": "eb53fda5",
   "metadata": {},
   "outputs": [
    {
     "data": {
      "text/plain": [
       "array([[86, 25, 39, 81],\n",
       "       [18, 35, 49, 87],\n",
       "       [81, 65, 46, 52]])"
      ]
     },
     "execution_count": 19,
     "metadata": {},
     "output_type": "execute_result"
    }
   ],
   "source": [
    "A"
   ]
  },
  {
   "cell_type": "code",
   "execution_count": 20,
   "id": "0c40eb16",
   "metadata": {},
   "outputs": [
    {
     "data": {
      "text/plain": [
       "array([[93, 13, 99, 22],\n",
       "       [52, 95, 21, 60],\n",
       "       [98, 20, 91, 21]])"
      ]
     },
     "execution_count": 20,
     "metadata": {},
     "output_type": "execute_result"
    }
   ],
   "source": [
    "B"
   ]
  },
  {
   "cell_type": "code",
   "execution_count": 21,
   "id": "4c6c0c46",
   "metadata": {},
   "outputs": [
    {
     "data": {
      "text/plain": [
       "array([[[86, 93],\n",
       "        [25, 13],\n",
       "        [39, 99],\n",
       "        [81, 22]],\n",
       "\n",
       "       [[18, 52],\n",
       "        [35, 95],\n",
       "        [49, 21],\n",
       "        [87, 60]],\n",
       "\n",
       "       [[81, 98],\n",
       "        [65, 20],\n",
       "        [46, 91],\n",
       "        [52, 21]]])"
      ]
     },
     "execution_count": 21,
     "metadata": {},
     "output_type": "execute_result"
    }
   ],
   "source": [
    "np.stack((A,B), axis=2)"
   ]
  },
  {
   "cell_type": "code",
   "execution_count": 22,
   "id": "969d5870",
   "metadata": {},
   "outputs": [
    {
     "data": {
      "text/plain": [
       "(3, 4, 2)"
      ]
     },
     "execution_count": 22,
     "metadata": {},
     "output_type": "execute_result"
    }
   ],
   "source": [
    "d = np.stack((A,B), axis=2)\n",
    "d.shape"
   ]
  },
  {
   "cell_type": "code",
   "execution_count": null,
   "id": "9310b39f",
   "metadata": {},
   "outputs": [],
   "source": []
  },
  {
   "cell_type": "code",
   "execution_count": null,
   "id": "a1f205d2",
   "metadata": {},
   "outputs": [],
   "source": []
  },
  {
   "cell_type": "code",
   "execution_count": 23,
   "id": "41e6ead5",
   "metadata": {},
   "outputs": [
    {
     "data": {
      "text/plain": [
       "array([[86, 25, 39, 81],\n",
       "       [18, 35, 49, 87],\n",
       "       [81, 65, 46, 52]])"
      ]
     },
     "execution_count": 23,
     "metadata": {},
     "output_type": "execute_result"
    }
   ],
   "source": [
    "A"
   ]
  },
  {
   "cell_type": "code",
   "execution_count": 24,
   "id": "999fddb8",
   "metadata": {},
   "outputs": [
    {
     "data": {
      "text/plain": [
       "array([10, 86, 25, 39, 81, 18, 35, 49, 87, 81, 65, 46, 52])"
      ]
     },
     "execution_count": 24,
     "metadata": {},
     "output_type": "execute_result"
    }
   ],
   "source": [
    "np.insert(A, 0, 10) # 10 mire too index e 0"
   ]
  },
  {
   "cell_type": "code",
   "execution_count": 25,
   "id": "4ebf1285",
   "metadata": {},
   "outputs": [
    {
     "data": {
      "text/plain": [
       "array([[10, 10, 10, 10],\n",
       "       [86, 25, 39, 81],\n",
       "       [18, 35, 49, 87],\n",
       "       [81, 65, 46, 52]])"
      ]
     },
     "execution_count": 25,
     "metadata": {},
     "output_type": "execute_result"
    }
   ],
   "source": [
    "np.insert(A, 0, 10, axis=0)"
   ]
  },
  {
   "cell_type": "code",
   "execution_count": 26,
   "id": "bbee05cd",
   "metadata": {},
   "outputs": [
    {
     "data": {
      "text/plain": [
       "array([[10, 86, 25, 39, 81],\n",
       "       [10, 18, 35, 49, 87],\n",
       "       [10, 81, 65, 46, 52]])"
      ]
     },
     "execution_count": 26,
     "metadata": {},
     "output_type": "execute_result"
    }
   ],
   "source": [
    "np.insert(A, 0, 10, axis=1)"
   ]
  },
  {
   "cell_type": "code",
   "execution_count": 27,
   "id": "053f0f40",
   "metadata": {},
   "outputs": [
    {
     "data": {
      "text/plain": [
       "array([[10, 10, 10, 10],\n",
       "       [86, 25, 39, 81],\n",
       "       [10, 10, 10, 10],\n",
       "       [18, 35, 49, 87],\n",
       "       [81, 65, 46, 52]])"
      ]
     },
     "execution_count": 27,
     "metadata": {},
     "output_type": "execute_result"
    }
   ],
   "source": [
    "np.insert(A, [0,1], 10, axis=0)"
   ]
  },
  {
   "cell_type": "code",
   "execution_count": 28,
   "id": "833a762e",
   "metadata": {},
   "outputs": [
    {
     "data": {
      "text/plain": [
       "array([[10, 10, 10, 10],\n",
       "       [86, 25, 39, 81],\n",
       "       [10, 10, 10, 10],\n",
       "       [18, 35, 49, 87],\n",
       "       [81, 65, 46, 52]])"
      ]
     },
     "execution_count": 28,
     "metadata": {},
     "output_type": "execute_result"
    }
   ],
   "source": [
    "np.insert(A, (0,1), 10, axis=0)"
   ]
  },
  {
   "cell_type": "code",
   "execution_count": 29,
   "id": "b787f2a8",
   "metadata": {},
   "outputs": [
    {
     "data": {
      "text/plain": [
       "array([[10, 10, 10, 10],\n",
       "       [86, 25, 39, 81],\n",
       "       [18, 35, 49, 87],\n",
       "       [81, 65, 46, 52],\n",
       "       [10, 10, 10, 10]])"
      ]
     },
     "execution_count": 29,
     "metadata": {},
     "output_type": "execute_result"
    }
   ],
   "source": [
    "np.insert(A, [0,3], 10, axis=0)"
   ]
  },
  {
   "cell_type": "code",
   "execution_count": 30,
   "id": "de2d3bf8",
   "metadata": {},
   "outputs": [
    {
     "data": {
      "text/plain": [
       "array([[10, 86, 25, 39, 81, 10],\n",
       "       [10, 18, 35, 49, 87, 10],\n",
       "       [10, 81, 65, 46, 52, 10]])"
      ]
     },
     "execution_count": 30,
     "metadata": {},
     "output_type": "execute_result"
    }
   ],
   "source": [
    "np.insert(A, [0,4], 10, axis=1)"
   ]
  },
  {
   "cell_type": "code",
   "execution_count": 31,
   "id": "1c2d4381",
   "metadata": {},
   "outputs": [
    {
     "data": {
      "text/plain": [
       "array([[10, 86, 10, 25, 39, 81],\n",
       "       [10, 18, 10, 35, 49, 87],\n",
       "       [10, 81, 10, 65, 46, 52]])"
      ]
     },
     "execution_count": 31,
     "metadata": {},
     "output_type": "execute_result"
    }
   ],
   "source": [
    "np.insert(A, [0,1], 10, axis=1)"
   ]
  },
  {
   "cell_type": "code",
   "execution_count": 32,
   "id": "54628985",
   "metadata": {},
   "outputs": [
    {
     "data": {
      "text/plain": [
       "array([[10, 86, 25, 39, 81],\n",
       "       [20, 18, 35, 49, 87],\n",
       "       [30, 81, 65, 46, 52]])"
      ]
     },
     "execution_count": 32,
     "metadata": {},
     "output_type": "execute_result"
    }
   ],
   "source": [
    "np.insert(A, 0, (10,20,30), axis=1)"
   ]
  },
  {
   "cell_type": "code",
   "execution_count": null,
   "id": "4d325310",
   "metadata": {},
   "outputs": [],
   "source": []
  },
  {
   "cell_type": "code",
   "execution_count": 33,
   "id": "216995de",
   "metadata": {},
   "outputs": [
    {
     "data": {
      "text/plain": [
       "array([[86, 25, 39, 81],\n",
       "       [18, 35, 49, 87],\n",
       "       [81, 65, 46, 52]])"
      ]
     },
     "execution_count": 33,
     "metadata": {},
     "output_type": "execute_result"
    }
   ],
   "source": [
    "A"
   ]
  },
  {
   "cell_type": "code",
   "execution_count": 34,
   "id": "663c1d4f",
   "metadata": {},
   "outputs": [],
   "source": [
    "mask1 = np.full([3,3],10)"
   ]
  },
  {
   "cell_type": "code",
   "execution_count": 35,
   "id": "2080d41a",
   "metadata": {},
   "outputs": [
    {
     "data": {
      "text/plain": [
       "array([[10, 10, 10, 86, 25, 39, 81],\n",
       "       [10, 10, 10, 18, 35, 49, 87],\n",
       "       [10, 10, 10, 81, 65, 46, 52]])"
      ]
     },
     "execution_count": 35,
     "metadata": {},
     "output_type": "execute_result"
    }
   ],
   "source": [
    "np.concatenate((mask1,A), axis=1)"
   ]
  },
  {
   "cell_type": "code",
   "execution_count": 36,
   "id": "3a82d1f0",
   "metadata": {},
   "outputs": [
    {
     "data": {
      "text/plain": [
       "array([[10, 10, 10, 10],\n",
       "       [10, 10, 10, 10],\n",
       "       [86, 25, 39, 81],\n",
       "       [18, 35, 49, 87],\n",
       "       [81, 65, 46, 52]])"
      ]
     },
     "execution_count": 36,
     "metadata": {},
     "output_type": "execute_result"
    }
   ],
   "source": [
    "mask2 = np.full([2,4],10)\n",
    "np.concatenate((mask2,A), axis=0)"
   ]
  },
  {
   "cell_type": "code",
   "execution_count": null,
   "id": "8c2a33e2",
   "metadata": {},
   "outputs": [],
   "source": []
  },
  {
   "cell_type": "code",
   "execution_count": null,
   "id": "6c9e079f",
   "metadata": {},
   "outputs": [],
   "source": []
  },
  {
   "cell_type": "markdown",
   "id": "a006ac2c",
   "metadata": {},
   "source": [
    "Delete"
   ]
  },
  {
   "cell_type": "code",
   "execution_count": 37,
   "id": "90669741",
   "metadata": {},
   "outputs": [
    {
     "data": {
      "text/plain": [
       "array([[93, 13, 99, 22],\n",
       "       [52, 95, 21, 60],\n",
       "       [98, 20, 91, 21]])"
      ]
     },
     "execution_count": 37,
     "metadata": {},
     "output_type": "execute_result"
    }
   ],
   "source": [
    "B"
   ]
  },
  {
   "cell_type": "code",
   "execution_count": 38,
   "id": "f2c343fd",
   "metadata": {},
   "outputs": [
    {
     "data": {
      "text/plain": [
       "array([[93, 13, 99, 22],\n",
       "       [98, 20, 91, 21]])"
      ]
     },
     "execution_count": 38,
     "metadata": {},
     "output_type": "execute_result"
    }
   ],
   "source": [
    "np.delete(B, 1, axis=0)"
   ]
  },
  {
   "cell_type": "code",
   "execution_count": 39,
   "id": "d0a7329a",
   "metadata": {},
   "outputs": [
    {
     "data": {
      "text/plain": [
       "array([[13, 99, 22],\n",
       "       [95, 21, 60],\n",
       "       [20, 91, 21]])"
      ]
     },
     "execution_count": 39,
     "metadata": {},
     "output_type": "execute_result"
    }
   ],
   "source": [
    "np.delete(B, 0, axis=1)"
   ]
  },
  {
   "cell_type": "code",
   "execution_count": 40,
   "id": "dc256965",
   "metadata": {},
   "outputs": [
    {
     "data": {
      "text/plain": [
       "array([[93, 13, 99, 22],\n",
       "       [52, 95, 21, 60],\n",
       "       [98, 20, 91, 21]])"
      ]
     },
     "execution_count": 40,
     "metadata": {},
     "output_type": "execute_result"
    }
   ],
   "source": [
    "c = np.delete(B, 1 , axis=0)\n",
    "d = B[1]\n",
    "np.insert(c, 1, d, axis=0)"
   ]
  },
  {
   "cell_type": "code",
   "execution_count": 41,
   "id": "f00520f8",
   "metadata": {},
   "outputs": [
    {
     "data": {
      "text/plain": [
       "True"
      ]
     },
     "execution_count": 41,
     "metadata": {},
     "output_type": "execute_result"
    }
   ],
   "source": [
    "e = np.insert(c, 1, d, axis=0)\n",
    "np.all( B == e )"
   ]
  },
  {
   "cell_type": "code",
   "execution_count": null,
   "id": "d5b3a811",
   "metadata": {},
   "outputs": [],
   "source": []
  },
  {
   "cell_type": "code",
   "execution_count": 42,
   "id": "16e2b3aa",
   "metadata": {},
   "outputs": [
    {
     "data": {
      "text/plain": [
       "array([[[42, 65, 91, 12],\n",
       "        [35, 40, 88, 12],\n",
       "        [29, 51, 88, 46]],\n",
       "\n",
       "       [[26, 55, 16, 87],\n",
       "        [89, 46, 55, 82],\n",
       "        [76, 75, 64, 14]]])"
      ]
     },
     "execution_count": 42,
     "metadata": {},
     "output_type": "execute_result"
    }
   ],
   "source": [
    "Q = np.random.randint(10,100, (2,3,4))\n",
    "Q"
   ]
  },
  {
   "cell_type": "code",
   "execution_count": 43,
   "id": "ae867b22",
   "metadata": {},
   "outputs": [
    {
     "data": {
      "text/plain": [
       "array([[[26, 55, 16, 87],\n",
       "        [89, 46, 55, 82],\n",
       "        [76, 75, 64, 14]]])"
      ]
     },
     "execution_count": 43,
     "metadata": {},
     "output_type": "execute_result"
    }
   ],
   "source": [
    "np.delete(Q, 0 , axis=0)"
   ]
  },
  {
   "cell_type": "code",
   "execution_count": 44,
   "id": "17612dd9",
   "metadata": {},
   "outputs": [
    {
     "data": {
      "text/plain": [
       "array([[[35, 40, 88, 12],\n",
       "        [29, 51, 88, 46]],\n",
       "\n",
       "       [[89, 46, 55, 82],\n",
       "        [76, 75, 64, 14]]])"
      ]
     },
     "execution_count": 44,
     "metadata": {},
     "output_type": "execute_result"
    }
   ],
   "source": [
    "np.delete(Q, 0 , axis=1)"
   ]
  },
  {
   "cell_type": "code",
   "execution_count": 45,
   "id": "7db1478a",
   "metadata": {},
   "outputs": [
    {
     "data": {
      "text/plain": [
       "array([[[65, 91, 12],\n",
       "        [40, 88, 12],\n",
       "        [51, 88, 46]],\n",
       "\n",
       "       [[55, 16, 87],\n",
       "        [46, 55, 82],\n",
       "        [75, 64, 14]]])"
      ]
     },
     "execution_count": 45,
     "metadata": {},
     "output_type": "execute_result"
    }
   ],
   "source": [
    "np.delete(Q, 0 , axis=2)"
   ]
  },
  {
   "cell_type": "code",
   "execution_count": null,
   "id": "691e6bd2",
   "metadata": {},
   "outputs": [],
   "source": []
  },
  {
   "cell_type": "markdown",
   "id": "a377dd0d",
   "metadata": {},
   "source": [
    "APPEND"
   ]
  },
  {
   "cell_type": "code",
   "execution_count": 46,
   "id": "f2d2c560",
   "metadata": {},
   "outputs": [
    {
     "name": "stdout",
     "output_type": "stream",
     "text": [
      "[42 65 91 12 35 40 88 12 29 51 88 46 26 55 16 87 89 46 55 82 76 75 64 14\n",
      " 10 11 12]\n",
      "shape : (27,)\n"
     ]
    }
   ],
   "source": [
    "W = np.append(Q, [10,11,12])\n",
    "print(W)\n",
    "print(f'shape : {W.shape}')"
   ]
  },
  {
   "cell_type": "code",
   "execution_count": 47,
   "id": "285b8478",
   "metadata": {},
   "outputs": [
    {
     "data": {
      "text/plain": [
       "array([[42, 65, 91, 12, 35, 40, 88, 12, 29],\n",
       "       [51, 88, 46, 26, 55, 16, 87, 89, 46],\n",
       "       [55, 82, 76, 75, 64, 14, 10, 11, 12]])"
      ]
     },
     "execution_count": 47,
     "metadata": {},
     "output_type": "execute_result"
    }
   ],
   "source": [
    "W.reshape(3,9)"
   ]
  },
  {
   "cell_type": "code",
   "execution_count": 48,
   "id": "70777fc7",
   "metadata": {},
   "outputs": [
    {
     "data": {
      "text/plain": [
       "array([[[42, 65, 91, 12],\n",
       "        [35, 40, 88, 12],\n",
       "        [29, 51, 88, 46]],\n",
       "\n",
       "       [[26, 55, 16, 87],\n",
       "        [89, 46, 55, 82],\n",
       "        [76, 75, 64, 14]]])"
      ]
     },
     "execution_count": 48,
     "metadata": {},
     "output_type": "execute_result"
    }
   ],
   "source": [
    "Q"
   ]
  },
  {
   "cell_type": "code",
   "execution_count": 49,
   "id": "d588f135",
   "metadata": {},
   "outputs": [
    {
     "name": "stdout",
     "output_type": "stream",
     "text": [
      "[[31 70 67]\n",
      " [56 16 63]] \n",
      " \n",
      " [[12 41 28]\n",
      " [61 91 74]]\n"
     ]
    }
   ],
   "source": [
    "i = np.random.randint(10,100, (2,3))\n",
    "j = np.random.randint(10,100, (2,3))\n",
    "print(i ,\"\\n\" , \"\\n\" , j)"
   ]
  },
  {
   "cell_type": "code",
   "execution_count": 50,
   "id": "60c73987",
   "metadata": {},
   "outputs": [
    {
     "data": {
      "text/plain": [
       "array([[31, 70, 67],\n",
       "       [56, 16, 63],\n",
       "       [12, 41, 28],\n",
       "       [61, 91, 74]])"
      ]
     },
     "execution_count": 50,
     "metadata": {},
     "output_type": "execute_result"
    }
   ],
   "source": [
    "np.append(i, j, axis=0)"
   ]
  },
  {
   "cell_type": "code",
   "execution_count": 51,
   "id": "cb50d5d3",
   "metadata": {},
   "outputs": [
    {
     "data": {
      "text/plain": [
       "array([[31, 70, 67, 12, 41, 28],\n",
       "       [56, 16, 63, 61, 91, 74]])"
      ]
     },
     "execution_count": 51,
     "metadata": {},
     "output_type": "execute_result"
    }
   ],
   "source": [
    "np.append(i, j, axis=1)"
   ]
  },
  {
   "cell_type": "code",
   "execution_count": null,
   "id": "573961a4",
   "metadata": {},
   "outputs": [],
   "source": []
  },
  {
   "cell_type": "code",
   "execution_count": null,
   "id": "52ac1d22",
   "metadata": {},
   "outputs": [],
   "source": []
  },
  {
   "cell_type": "code",
   "execution_count": 52,
   "id": "d1a29ab8",
   "metadata": {},
   "outputs": [
    {
     "data": {
      "text/plain": [
       "array([[31, 70, 67],\n",
       "       [56, 16, 63]])"
      ]
     },
     "execution_count": 52,
     "metadata": {},
     "output_type": "execute_result"
    }
   ],
   "source": [
    "i"
   ]
  },
  {
   "cell_type": "code",
   "execution_count": 53,
   "id": "5804ab47",
   "metadata": {},
   "outputs": [
    {
     "data": {
      "text/plain": [
       "array([[31, 70, 67, 31, 70, 67],\n",
       "       [56, 16, 63, 56, 16, 63]])"
      ]
     },
     "execution_count": 53,
     "metadata": {},
     "output_type": "execute_result"
    }
   ],
   "source": [
    "np.tile(i, 2)"
   ]
  },
  {
   "cell_type": "code",
   "execution_count": 54,
   "id": "b2a6fab1",
   "metadata": {},
   "outputs": [
    {
     "data": {
      "text/plain": [
       "array([[31, 70, 67, 31, 70, 67],\n",
       "       [56, 16, 63, 56, 16, 63],\n",
       "       [31, 70, 67, 31, 70, 67],\n",
       "       [56, 16, 63, 56, 16, 63]])"
      ]
     },
     "execution_count": 54,
     "metadata": {},
     "output_type": "execute_result"
    }
   ],
   "source": [
    "np.tile(i, (2,2))"
   ]
  },
  {
   "cell_type": "code",
   "execution_count": null,
   "id": "eca150ca",
   "metadata": {},
   "outputs": [],
   "source": []
  },
  {
   "cell_type": "code",
   "execution_count": 55,
   "id": "11e9e70d",
   "metadata": {},
   "outputs": [
    {
     "data": {
      "text/plain": [
       "array([[31, 70, 67],\n",
       "       [56, 16, 63]])"
      ]
     },
     "execution_count": 55,
     "metadata": {},
     "output_type": "execute_result"
    }
   ],
   "source": [
    "i"
   ]
  },
  {
   "cell_type": "code",
   "execution_count": 56,
   "id": "e928f2b6",
   "metadata": {},
   "outputs": [
    {
     "data": {
      "text/plain": [
       "array([31, 31, 70, 70, 67, 67, 56, 56, 16, 16, 63, 63])"
      ]
     },
     "execution_count": 56,
     "metadata": {},
     "output_type": "execute_result"
    }
   ],
   "source": [
    "np.repeat(i, 2)"
   ]
  },
  {
   "cell_type": "code",
   "execution_count": 57,
   "id": "d28e3095",
   "metadata": {},
   "outputs": [
    {
     "data": {
      "text/plain": [
       "array([[31, 31, 70, 70, 67, 67],\n",
       "       [56, 56, 16, 16, 63, 63]])"
      ]
     },
     "execution_count": 57,
     "metadata": {},
     "output_type": "execute_result"
    }
   ],
   "source": [
    "np.repeat(i, 2).reshape(2,6)"
   ]
  },
  {
   "cell_type": "code",
   "execution_count": 58,
   "id": "f21e182b",
   "metadata": {},
   "outputs": [
    {
     "data": {
      "text/plain": [
       "array([[31, 31, 70, 70, 67, 67],\n",
       "       [56, 56, 16, 16, 63, 63]])"
      ]
     },
     "execution_count": 58,
     "metadata": {},
     "output_type": "execute_result"
    }
   ],
   "source": [
    "np.repeat(i,2, axis=1)"
   ]
  },
  {
   "cell_type": "code",
   "execution_count": 59,
   "id": "9d291272",
   "metadata": {},
   "outputs": [
    {
     "data": {
      "text/plain": [
       "array([[31, 70, 67],\n",
       "       [31, 70, 67],\n",
       "       [31, 70, 67],\n",
       "       [56, 16, 63],\n",
       "       [56, 16, 63],\n",
       "       [56, 16, 63]])"
      ]
     },
     "execution_count": 59,
     "metadata": {},
     "output_type": "execute_result"
    }
   ],
   "source": [
    "np.repeat(i,3, axis=0)"
   ]
  },
  {
   "cell_type": "code",
   "execution_count": null,
   "id": "40a1c3fe",
   "metadata": {},
   "outputs": [],
   "source": []
  },
  {
   "cell_type": "code",
   "execution_count": 60,
   "id": "5d836761",
   "metadata": {},
   "outputs": [
    {
     "data": {
      "text/plain": [
       "array([31, 70, 67, 31, 70, 67, 31, 70, 67, 56, 16, 63, 56, 16, 63, 56, 16,\n",
       "       63])"
      ]
     },
     "execution_count": 60,
     "metadata": {},
     "output_type": "execute_result"
    }
   ],
   "source": [
    "x = np.repeat(i,3, axis=0)\n",
    "x.flatten() "
   ]
  },
  {
   "cell_type": "code",
   "execution_count": null,
   "id": "2fd5fc50",
   "metadata": {},
   "outputs": [],
   "source": []
  },
  {
   "cell_type": "code",
   "execution_count": null,
   "id": "7957d16f",
   "metadata": {},
   "outputs": [],
   "source": []
  },
  {
   "cell_type": "markdown",
   "id": "509e2a39",
   "metadata": {},
   "source": [
    "SPLIT"
   ]
  },
  {
   "cell_type": "code",
   "execution_count": 61,
   "id": "68a96a86",
   "metadata": {},
   "outputs": [
    {
     "data": {
      "text/plain": [
       "array([[[42, 65, 91, 12],\n",
       "        [35, 40, 88, 12],\n",
       "        [29, 51, 88, 46]],\n",
       "\n",
       "       [[26, 55, 16, 87],\n",
       "        [89, 46, 55, 82],\n",
       "        [76, 75, 64, 14]]])"
      ]
     },
     "execution_count": 61,
     "metadata": {},
     "output_type": "execute_result"
    }
   ],
   "source": [
    "Q"
   ]
  },
  {
   "cell_type": "code",
   "execution_count": 62,
   "id": "56469c36",
   "metadata": {},
   "outputs": [
    {
     "data": {
      "text/plain": [
       "[array([[[42, 65, 91, 12],\n",
       "         [35, 40, 88, 12],\n",
       "         [29, 51, 88, 46]],\n",
       " \n",
       "        [[26, 55, 16, 87],\n",
       "         [89, 46, 55, 82],\n",
       "         [76, 75, 64, 14]]])]"
      ]
     },
     "execution_count": 62,
     "metadata": {},
     "output_type": "execute_result"
    }
   ],
   "source": [
    "np.split(Q,1,axis=0)"
   ]
  },
  {
   "cell_type": "code",
   "execution_count": 63,
   "id": "7d136da0",
   "metadata": {},
   "outputs": [
    {
     "data": {
      "text/plain": [
       "list"
      ]
     },
     "execution_count": 63,
     "metadata": {},
     "output_type": "execute_result"
    }
   ],
   "source": [
    "type(np.split(Q,1,axis=0))"
   ]
  },
  {
   "cell_type": "code",
   "execution_count": 64,
   "id": "243ef8c5",
   "metadata": {},
   "outputs": [
    {
     "data": {
      "text/plain": [
       "[array([[[42, 65, 91, 12],\n",
       "         [35, 40, 88, 12],\n",
       "         [29, 51, 88, 46]]]),\n",
       " array([[[26, 55, 16, 87],\n",
       "         [89, 46, 55, 82],\n",
       "         [76, 75, 64, 14]]])]"
      ]
     },
     "execution_count": 64,
     "metadata": {},
     "output_type": "execute_result"
    }
   ],
   "source": [
    "np.split(Q,2,axis=0)"
   ]
  },
  {
   "cell_type": "code",
   "execution_count": 65,
   "id": "f94e0bf1",
   "metadata": {},
   "outputs": [
    {
     "data": {
      "text/plain": [
       "[array([[[42, 65, 91, 12]],\n",
       " \n",
       "        [[26, 55, 16, 87]]]),\n",
       " array([[[35, 40, 88, 12]],\n",
       " \n",
       "        [[89, 46, 55, 82]]]),\n",
       " array([[[29, 51, 88, 46]],\n",
       " \n",
       "        [[76, 75, 64, 14]]])]"
      ]
     },
     "execution_count": 65,
     "metadata": {},
     "output_type": "execute_result"
    }
   ],
   "source": [
    "np.split(Q,3,axis=1)"
   ]
  },
  {
   "cell_type": "code",
   "execution_count": null,
   "id": "27c55f5c",
   "metadata": {},
   "outputs": [],
   "source": []
  },
  {
   "cell_type": "code",
   "execution_count": null,
   "id": "f4c77c3c",
   "metadata": {},
   "outputs": [],
   "source": []
  },
  {
   "cell_type": "markdown",
   "id": "ca2627e4",
   "metadata": {},
   "source": [
    "SWAPAXES"
   ]
  },
  {
   "cell_type": "code",
   "execution_count": 66,
   "id": "36e264b8",
   "metadata": {},
   "outputs": [
    {
     "data": {
      "text/plain": [
       "array([[86, 25, 39, 81],\n",
       "       [18, 35, 49, 87],\n",
       "       [81, 65, 46, 52]])"
      ]
     },
     "execution_count": 66,
     "metadata": {},
     "output_type": "execute_result"
    }
   ],
   "source": [
    "A"
   ]
  },
  {
   "cell_type": "code",
   "execution_count": 67,
   "id": "d7a4f365",
   "metadata": {},
   "outputs": [
    {
     "data": {
      "text/plain": [
       "array([[86, 18, 81],\n",
       "       [25, 35, 65],\n",
       "       [39, 49, 46],\n",
       "       [81, 87, 52]])"
      ]
     },
     "execution_count": 67,
     "metadata": {},
     "output_type": "execute_result"
    }
   ],
   "source": [
    "np.swapaxes(A,0,1)"
   ]
  },
  {
   "cell_type": "code",
   "execution_count": 68,
   "id": "9a22dc7a",
   "metadata": {},
   "outputs": [
    {
     "data": {
      "text/plain": [
       "array([[86, 18, 81],\n",
       "       [25, 35, 65],\n",
       "       [39, 49, 46],\n",
       "       [81, 87, 52]])"
      ]
     },
     "execution_count": 68,
     "metadata": {},
     "output_type": "execute_result"
    }
   ],
   "source": [
    "np.transpose(A)"
   ]
  },
  {
   "cell_type": "code",
   "execution_count": 69,
   "id": "ad91de97",
   "metadata": {},
   "outputs": [
    {
     "data": {
      "text/plain": [
       "True"
      ]
     },
     "execution_count": 69,
     "metadata": {},
     "output_type": "execute_result"
    }
   ],
   "source": [
    "np.all( np.swapaxes(A,0,1) == np.transpose(A) )"
   ]
  },
  {
   "cell_type": "code",
   "execution_count": 70,
   "id": "0f8dfa16",
   "metadata": {},
   "outputs": [
    {
     "data": {
      "text/plain": [
       "array([[[42, 65, 91, 12],\n",
       "        [35, 40, 88, 12],\n",
       "        [29, 51, 88, 46]],\n",
       "\n",
       "       [[26, 55, 16, 87],\n",
       "        [89, 46, 55, 82],\n",
       "        [76, 75, 64, 14]]])"
      ]
     },
     "execution_count": 70,
     "metadata": {},
     "output_type": "execute_result"
    }
   ],
   "source": [
    "Q"
   ]
  },
  {
   "cell_type": "code",
   "execution_count": 71,
   "id": "35623c23",
   "metadata": {},
   "outputs": [
    {
     "data": {
      "text/plain": [
       "array([[[42, 35, 29],\n",
       "        [65, 40, 51],\n",
       "        [91, 88, 88],\n",
       "        [12, 12, 46]],\n",
       "\n",
       "       [[26, 89, 76],\n",
       "        [55, 46, 75],\n",
       "        [16, 55, 64],\n",
       "        [87, 82, 14]]])"
      ]
     },
     "execution_count": 71,
     "metadata": {},
     "output_type": "execute_result"
    }
   ],
   "source": [
    "np.swapaxes(Q, 1,2)"
   ]
  },
  {
   "cell_type": "code",
   "execution_count": 72,
   "id": "5e3b9cdd",
   "metadata": {},
   "outputs": [
    {
     "data": {
      "text/plain": [
       "array([[[42, 26],\n",
       "        [35, 89],\n",
       "        [29, 76]],\n",
       "\n",
       "       [[65, 55],\n",
       "        [40, 46],\n",
       "        [51, 75]],\n",
       "\n",
       "       [[91, 16],\n",
       "        [88, 55],\n",
       "        [88, 64]],\n",
       "\n",
       "       [[12, 87],\n",
       "        [12, 82],\n",
       "        [46, 14]]])"
      ]
     },
     "execution_count": 72,
     "metadata": {},
     "output_type": "execute_result"
    }
   ],
   "source": [
    "np.swapaxes(Q, 0,2)"
   ]
  },
  {
   "cell_type": "code",
   "execution_count": 73,
   "id": "727defb8",
   "metadata": {},
   "outputs": [
    {
     "data": {
      "text/plain": [
       "(2, 3, 4)"
      ]
     },
     "execution_count": 73,
     "metadata": {},
     "output_type": "execute_result"
    }
   ],
   "source": [
    "Q.shape"
   ]
  },
  {
   "cell_type": "code",
   "execution_count": 74,
   "id": "36978aca",
   "metadata": {},
   "outputs": [
    {
     "data": {
      "text/plain": [
       "(2, 4, 3)"
      ]
     },
     "execution_count": 74,
     "metadata": {},
     "output_type": "execute_result"
    }
   ],
   "source": [
    "np.swapaxes(Q, 1,2).shape"
   ]
  },
  {
   "cell_type": "code",
   "execution_count": 75,
   "id": "ebc31222",
   "metadata": {},
   "outputs": [
    {
     "data": {
      "text/plain": [
       "(4, 3, 2)"
      ]
     },
     "execution_count": 75,
     "metadata": {},
     "output_type": "execute_result"
    }
   ],
   "source": [
    "np.swapaxes(Q, 0,2).shape"
   ]
  },
  {
   "cell_type": "code",
   "execution_count": null,
   "id": "ab6f0cc2",
   "metadata": {},
   "outputs": [],
   "source": []
  }
 ],
 "metadata": {
  "kernelspec": {
   "display_name": "Python 3 (ipykernel)",
   "language": "python",
   "name": "python3"
  },
  "language_info": {
   "codemirror_mode": {
    "name": "ipython",
    "version": 3
   },
   "file_extension": ".py",
   "mimetype": "text/x-python",
   "name": "python",
   "nbconvert_exporter": "python",
   "pygments_lexer": "ipython3",
   "version": "3.9.13"
  }
 },
 "nbformat": 4,
 "nbformat_minor": 5
}
