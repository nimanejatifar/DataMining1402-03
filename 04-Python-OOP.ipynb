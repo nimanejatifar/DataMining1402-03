{
 "cells": [
  {
   "cell_type": "markdown",
   "id": "4db611aa",
   "metadata": {},
   "source": [
    "## Object Oriented Programming"
   ]
  },
  {
   "cell_type": "markdown",
   "id": "bb4c9f62",
   "metadata": {},
   "source": [
    "Classes & Objects"
   ]
  },
  {
   "cell_type": "code",
   "execution_count": 5,
   "id": "27b1cd2b",
   "metadata": {},
   "outputs": [],
   "source": [
    "class myClass:\n",
    "    x = 5\n",
    "    y = 3\n",
    "myObject = myClass()"
   ]
  },
  {
   "cell_type": "code",
   "execution_count": 8,
   "id": "b37a7773",
   "metadata": {},
   "outputs": [
    {
     "name": "stdout",
     "output_type": "stream",
     "text": [
      "5\n"
     ]
    }
   ],
   "source": [
    "print(myObject.x)"
   ]
  },
  {
   "cell_type": "markdown",
   "id": "f87ff0f6",
   "metadata": {},
   "source": [
    "Method: functions inside a class </br>\n",
    "Attribute: variables with the `self.` prefix </br>\n",
    "Object: variables assigned to classes"
   ]
  },
  {
   "cell_type": "code",
   "execution_count": 14,
   "id": "65f76d12",
   "metadata": {},
   "outputs": [
    {
     "name": "stdout",
     "output_type": "stream",
     "text": [
      "5\n"
     ]
    }
   ],
   "source": [
    "class myClass:\n",
    "    x = 5\n",
    "    def printMyClass(self):\n",
    "        print(self.x)\n",
    "myObject = myClass()\n",
    "myObject.printMyClass()"
   ]
  },
  {
   "cell_type": "code",
   "execution_count": 8,
   "id": "fe18fc13",
   "metadata": {},
   "outputs": [
    {
     "name": "stdout",
     "output_type": "stream",
     "text": [
      "red\n"
     ]
    }
   ],
   "source": [
    "class fruit:\n",
    "    def __init__(self):\n",
    "        self.name = 'apple'\n",
    "        self.color = 'red'\n",
    "\n",
    "myFruit = fruit()\n",
    "print(myFruit.color)"
   ]
  },
  {
   "cell_type": "code",
   "execution_count": 26,
   "id": "fbe43589",
   "metadata": {},
   "outputs": [],
   "source": [
    "import math as m\n",
    "class circle:\n",
    "    def readRadius(self):\n",
    "        self.radius = int(input(\"Enter Radius: \"))\n",
    "        \n",
    "    def calculate(self):\n",
    "        self.area = m.pi * self.radius ** 2\n",
    "        \n",
    "    def display(self):\n",
    "        print('Radius: ', self.radius, 'Area: ', \"{:.4f}\".format(self.area))"
   ]
  },
  {
   "cell_type": "code",
   "execution_count": 27,
   "id": "3c7fcdc6",
   "metadata": {},
   "outputs": [
    {
     "name": "stdout",
     "output_type": "stream",
     "text": [
      "Enter Radius: 2\n",
      "Radius:  2 Area:  12.5664\n"
     ]
    }
   ],
   "source": [
    "# create object:\n",
    "myCircle = circle()\n",
    "# using methods:\n",
    "myCircle.readRadius()\n",
    "myCircle.calculate()\n",
    "myCircle.display()"
   ]
  },
  {
   "cell_type": "code",
   "execution_count": 33,
   "id": "97c59d83",
   "metadata": {},
   "outputs": [
    {
     "name": "stdout",
     "output_type": "stream",
     "text": [
      "Radius:  2 Area:  12.5664\n"
     ]
    }
   ],
   "source": [
    "class circle__2:\n",
    "    \n",
    "    def __init__(self, r):\n",
    "        self.radius = r\n",
    "        \n",
    "    def calculate(self):\n",
    "        self.area = m.pi * self.radius ** 2\n",
    "        \n",
    "    def display(self):\n",
    "        print('Radius: ', self.radius, 'Area: ', \"{:.4f}\".format(self.area))\n",
    "\n",
    "        \n",
    "# create object:\n",
    "myCircle = circle__2(2)\n",
    "# using methods:\n",
    "myCircle.calculate()\n",
    "myCircle.display()"
   ]
  },
  {
   "cell_type": "markdown",
   "id": "dbc9fc95",
   "metadata": {},
   "source": [
    "## Inheritance"
   ]
  },
  {
   "cell_type": "code",
   "execution_count": 3,
   "id": "979fb80b",
   "metadata": {},
   "outputs": [
    {
     "name": "stdout",
     "output_type": "stream",
     "text": [
      "Nima Nejatifar\n"
     ]
    }
   ],
   "source": [
    "class person:\n",
    "    def __init__(self, firstName, lastName):\n",
    "        self.FirstName = firstName\n",
    "        self.LastName = lastName\n",
    "    def display(self):\n",
    "        print(self.FirstName, self.LastName)\n",
    "        \n",
    "class student(person):\n",
    "    pass\n",
    "\n",
    "student_1 = student('Nima', 'Nejatifar')\n",
    "student_1.display()"
   ]
  },
  {
   "cell_type": "code",
   "execution_count": 4,
   "id": "24263be5",
   "metadata": {},
   "outputs": [
    {
     "name": "stdout",
     "output_type": "stream",
     "text": [
      "Nima Nejatifar\n",
      "22\n"
     ]
    }
   ],
   "source": [
    "class person:\n",
    "    def __init__(self, firstName, lastName):\n",
    "        self.FirstName = firstName\n",
    "        self.LastName = lastName\n",
    "    def display(self):\n",
    "        print(self.FirstName, self.LastName)\n",
    "        \n",
    "class student(person):\n",
    "    def __init__(self, firstName, lastName, age):\n",
    "        person.__init__(self, firstName, lastName)\n",
    "        self.Age = age\n",
    "    def display(self):\n",
    "        person.display(self)\n",
    "        print(self.Age)\n",
    "\n",
    "student_1 = student('Nima', 'Nejatifar', 22)\n",
    "student_1.display()"
   ]
  },
  {
   "cell_type": "code",
   "execution_count": 6,
   "id": "9d0bdacb",
   "metadata": {},
   "outputs": [
    {
     "name": "stdout",
     "output_type": "stream",
     "text": [
      "Nima Nejatifar\n",
      "22\n"
     ]
    }
   ],
   "source": [
    "# you can use 'super()' function and remove 'self', instead of parents name:\n",
    "class person:\n",
    "    def __init__(self, firstName, lastName):\n",
    "        self.FirstName = firstName\n",
    "        self.LastName = lastName\n",
    "    def display(self):\n",
    "        print(self.FirstName, self.LastName)\n",
    "        \n",
    "class student(person):\n",
    "    def __init__(self, firstName, lastName, age):\n",
    "        super().__init__(firstName, lastName)\n",
    "        self.Age = age\n",
    "    def display(self):\n",
    "        super().display()\n",
    "        print(self.Age)\n",
    "\n",
    "student_1 = student('Nima', 'Nejatifar', 22)\n",
    "student_1.display()"
   ]
  }
 ],
 "metadata": {
  "kernelspec": {
   "display_name": "Python 3 (ipykernel)",
   "language": "python",
   "name": "python3"
  },
  "language_info": {
   "codemirror_mode": {
    "name": "ipython",
    "version": 3
   },
   "file_extension": ".py",
   "mimetype": "text/x-python",
   "name": "python",
   "nbconvert_exporter": "python",
   "pygments_lexer": "ipython3",
   "version": "3.9.13"
  }
 },
 "nbformat": 4,
 "nbformat_minor": 5
}
