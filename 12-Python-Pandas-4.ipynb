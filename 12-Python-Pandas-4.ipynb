{
 "cells": [
  {
   "cell_type": "markdown",
   "id": "d7f29ef3",
   "metadata": {},
   "source": [
    "Text data processing"
   ]
  },
  {
   "cell_type": "code",
   "execution_count": 1,
   "id": "456f6504",
   "metadata": {},
   "outputs": [],
   "source": [
    "import numpy as np\n",
    "import pandas as pd"
   ]
  },
  {
   "cell_type": "code",
   "execution_count": 2,
   "id": "b1331253",
   "metadata": {},
   "outputs": [
    {
     "data": {
      "text/plain": [
       "0    a\n",
       "1    b\n",
       "dtype: object"
      ]
     },
     "execution_count": 2,
     "metadata": {},
     "output_type": "execute_result"
    }
   ],
   "source": [
    "pd.Series([\"a\",\"b\"])"
   ]
  },
  {
   "cell_type": "code",
   "execution_count": 3,
   "id": "959ef589",
   "metadata": {},
   "outputs": [
    {
     "data": {
      "text/plain": [
       "0    a\n",
       "1    b\n",
       "dtype: string"
      ]
     },
     "execution_count": 3,
     "metadata": {},
     "output_type": "execute_result"
    }
   ],
   "source": [
    "s1 = pd.Series([\"a\",\"b\"], dtype=\"string\")\n",
    "s1"
   ]
  },
  {
   "cell_type": "code",
   "execution_count": 6,
   "id": "d5a129f8",
   "metadata": {},
   "outputs": [
    {
     "data": {
      "text/plain": [
       "0    a\n",
       "1    b\n",
       "dtype: string"
      ]
     },
     "execution_count": 6,
     "metadata": {},
     "output_type": "execute_result"
    }
   ],
   "source": [
    "s1 = pd.Series([\"a\",\"b\"])\n",
    "s1.astype(\"string\")"
   ]
  },
  {
   "cell_type": "code",
   "execution_count": 7,
   "id": "6196c735",
   "metadata": {},
   "outputs": [
    {
     "data": {
      "text/plain": [
       "0    a\n",
       "1    b\n",
       "dtype: string"
      ]
     },
     "execution_count": 7,
     "metadata": {},
     "output_type": "execute_result"
    }
   ],
   "source": [
    "s1 = pd.Series([\"a\",\"b\"], dtype=pd.StringDtype())\n",
    "s1"
   ]
  },
  {
   "cell_type": "code",
   "execution_count": null,
   "id": "2d40bd90",
   "metadata": {},
   "outputs": [],
   "source": []
  },
  {
   "cell_type": "code",
   "execution_count": null,
   "id": "6daafbee",
   "metadata": {},
   "outputs": [],
   "source": []
  },
  {
   "cell_type": "code",
   "execution_count": 13,
   "id": "1d00a7b9",
   "metadata": {},
   "outputs": [],
   "source": [
    "string = \"Sina,Reza,Zahra,Fateme\""
   ]
  },
  {
   "cell_type": "code",
   "execution_count": 14,
   "id": "f09f2804",
   "metadata": {},
   "outputs": [
    {
     "data": {
      "text/plain": [
       "0      Sina\n",
       "1      Reza\n",
       "2     Zahra\n",
       "3    Fateme\n",
       "dtype: string"
      ]
     },
     "execution_count": 14,
     "metadata": {},
     "output_type": "execute_result"
    }
   ],
   "source": [
    "s1 = pd.Series(string.split(','), dtype=\"string\")\n",
    "s1"
   ]
  },
  {
   "cell_type": "code",
   "execution_count": 17,
   "id": "475ecb64",
   "metadata": {},
   "outputs": [
    {
     "data": {
      "text/plain": [
       "'Sina, Reza, Zahra, Fateme'"
      ]
     },
     "execution_count": 17,
     "metadata": {},
     "output_type": "execute_result"
    }
   ],
   "source": [
    "s1.str.cat(sep=', ')"
   ]
  },
  {
   "cell_type": "code",
   "execution_count": 18,
   "id": "8e3ccd75",
   "metadata": {},
   "outputs": [
    {
     "data": {
      "text/plain": [
       "'Sina - Reza - Zahra - Fateme'"
      ]
     },
     "execution_count": 18,
     "metadata": {},
     "output_type": "execute_result"
    }
   ],
   "source": [
    "s1.str.cat(sep=' - ')"
   ]
  },
  {
   "cell_type": "code",
   "execution_count": 21,
   "id": "b65446a2",
   "metadata": {},
   "outputs": [
    {
     "data": {
      "text/plain": [
       "['Sina', 'Reza', 'Zahra', 'Fateme']"
      ]
     },
     "execution_count": 21,
     "metadata": {},
     "output_type": "execute_result"
    }
   ],
   "source": [
    "s1.str.cat(sep=',').split(',')"
   ]
  },
  {
   "cell_type": "code",
   "execution_count": 22,
   "id": "ef41f2ea",
   "metadata": {},
   "outputs": [
    {
     "data": {
      "text/plain": [
       "'Sina'"
      ]
     },
     "execution_count": 22,
     "metadata": {},
     "output_type": "execute_result"
    }
   ],
   "source": [
    "s1.str.cat(sep=',').split(',')[0]"
   ]
  },
  {
   "cell_type": "code",
   "execution_count": 25,
   "id": "5ebd172b",
   "metadata": {},
   "outputs": [
    {
     "data": {
      "text/plain": [
       "['Hello', 'my', 'name', 'is', 'Nima']"
      ]
     },
     "execution_count": 25,
     "metadata": {},
     "output_type": "execute_result"
    }
   ],
   "source": [
    "string2 = \"Hello my name is Nima\"\n",
    "s2 = pd.Series(string2.split(' '), dtype=\"string\")\n",
    "list2 = s2.str.cat(sep=' ').split(' ')\n",
    "list2"
   ]
  },
  {
   "cell_type": "markdown",
   "id": "e43b9835",
   "metadata": {},
   "source": [
    "\n",
    "\n",
    "\n",
    "\n",
    "\n",
    "\n",
    "\n",
    "\n",
    "\n",
    "\n",
    "\n"
   ]
  },
  {
   "cell_type": "code",
   "execution_count": 30,
   "id": "07cd524d",
   "metadata": {},
   "outputs": [
    {
     "data": {
      "text/plain": [
       "0    False\n",
       "1     True\n",
       "2     True\n",
       "3     True\n",
       "4    False\n",
       "dtype: boolean"
      ]
     },
     "execution_count": 30,
     "metadata": {},
     "output_type": "execute_result"
    }
   ],
   "source": [
    "s2.str.islower()"
   ]
  },
  {
   "cell_type": "code",
   "execution_count": 29,
   "id": "de8e4b60",
   "metadata": {},
   "outputs": [
    {
     "data": {
      "text/plain": [
       "False"
      ]
     },
     "execution_count": 29,
     "metadata": {},
     "output_type": "execute_result"
    }
   ],
   "source": [
    "s2.str.islower().all()"
   ]
  },
  {
   "cell_type": "code",
   "execution_count": 31,
   "id": "ec704942",
   "metadata": {},
   "outputs": [
    {
     "data": {
      "text/plain": [
       "0    False\n",
       "1    False\n",
       "2    False\n",
       "3    False\n",
       "4    False\n",
       "dtype: boolean"
      ]
     },
     "execution_count": 31,
     "metadata": {},
     "output_type": "execute_result"
    }
   ],
   "source": [
    "s2.str.isupper()"
   ]
  },
  {
   "cell_type": "code",
   "execution_count": 32,
   "id": "0b940b5a",
   "metadata": {},
   "outputs": [
    {
     "data": {
      "text/plain": [
       "0    hello\n",
       "1       my\n",
       "2     name\n",
       "3       is\n",
       "4     nima\n",
       "dtype: string"
      ]
     },
     "execution_count": 32,
     "metadata": {},
     "output_type": "execute_result"
    }
   ],
   "source": [
    "s2.str.lower()"
   ]
  },
  {
   "cell_type": "code",
   "execution_count": 33,
   "id": "eed16a1e",
   "metadata": {},
   "outputs": [
    {
     "data": {
      "text/plain": [
       "0    HELLO\n",
       "1       MY\n",
       "2     NAME\n",
       "3       IS\n",
       "4     NIMA\n",
       "dtype: string"
      ]
     },
     "execution_count": 33,
     "metadata": {},
     "output_type": "execute_result"
    }
   ],
   "source": [
    "s2.str.upper()"
   ]
  },
  {
   "cell_type": "markdown",
   "id": "eb2dcb7b",
   "metadata": {},
   "source": [
    "# "
   ]
  },
  {
   "cell_type": "code",
   "execution_count": 45,
   "id": "478db352",
   "metadata": {},
   "outputs": [],
   "source": [
    "s3 = pd.Series(['hi', 'guys', 'This is nima'], dtype='string')"
   ]
  },
  {
   "cell_type": "code",
   "execution_count": 46,
   "id": "101e2831",
   "metadata": {},
   "outputs": [
    {
     "data": {
      "text/plain": [
       "0              Hi\n",
       "1            Guys\n",
       "2    This Is Nima\n",
       "dtype: string"
      ]
     },
     "execution_count": 46,
     "metadata": {},
     "output_type": "execute_result"
    }
   ],
   "source": [
    "s3.str.title()"
   ]
  },
  {
   "cell_type": "code",
   "execution_count": 47,
   "id": "8dbcbb0d",
   "metadata": {},
   "outputs": [
    {
     "data": {
      "text/plain": [
       "0              Hi\n",
       "1            Guys\n",
       "2    This is nima\n",
       "dtype: string"
      ]
     },
     "execution_count": 47,
     "metadata": {},
     "output_type": "execute_result"
    }
   ],
   "source": [
    "s3.str.capitalize()"
   ]
  },
  {
   "cell_type": "code",
   "execution_count": 48,
   "id": "24d2d657",
   "metadata": {},
   "outputs": [
    {
     "data": {
      "text/plain": [
       "0              HI\n",
       "1            GUYS\n",
       "2    tHIS IS NIMA\n",
       "dtype: string"
      ]
     },
     "execution_count": 48,
     "metadata": {},
     "output_type": "execute_result"
    }
   ],
   "source": [
    "s3.str.swapcase()"
   ]
  },
  {
   "cell_type": "markdown",
   "id": "2df00d7d",
   "metadata": {},
   "source": [
    "\n",
    "\n"
   ]
  },
  {
   "cell_type": "code",
   "execution_count": null,
   "id": "3a46587f",
   "metadata": {},
   "outputs": [],
   "source": []
  },
  {
   "cell_type": "code",
   "execution_count": 60,
   "id": "a1e48506",
   "metadata": {},
   "outputs": [
    {
     "data": {
      "text/plain": [
       "0     3\n",
       "5    13\n",
       "dtype: object"
      ]
     },
     "execution_count": 60,
     "metadata": {},
     "output_type": "execute_result"
    }
   ],
   "source": [
    "s4 = pd.Series([\"3\", \"three\", \"three3\", \" \", \"h5\", \"13\", \"7AC\"])\n",
    "mask = s4.str.isdigit()\n",
    "s4[mask]"
   ]
  },
  {
   "cell_type": "code",
   "execution_count": 61,
   "id": "8b9aa000",
   "metadata": {},
   "outputs": [
    {
     "data": {
      "text/plain": [
       "0     3\n",
       "5    13\n",
       "dtype: object"
      ]
     },
     "execution_count": 61,
     "metadata": {},
     "output_type": "execute_result"
    }
   ],
   "source": [
    "mask = s4.str.isnumeric()\n",
    "s4[mask]"
   ]
  },
  {
   "cell_type": "code",
   "execution_count": 62,
   "id": "ccd114fa",
   "metadata": {},
   "outputs": [
    {
     "data": {
      "text/plain": [
       "1    three\n",
       "dtype: object"
      ]
     },
     "execution_count": 62,
     "metadata": {},
     "output_type": "execute_result"
    }
   ],
   "source": [
    "mask = s4.str.isalpha()\n",
    "s4[mask]"
   ]
  },
  {
   "cell_type": "code",
   "execution_count": null,
   "id": "146ce600",
   "metadata": {},
   "outputs": [],
   "source": []
  },
  {
   "cell_type": "code",
   "execution_count": null,
   "id": "9c0393c3",
   "metadata": {},
   "outputs": [],
   "source": []
  },
  {
   "cell_type": "code",
   "execution_count": 67,
   "id": "446f5f26",
   "metadata": {},
   "outputs": [
    {
     "data": {
      "text/plain": [
       "0    Hello\n",
       "1       my\n",
       "2     name\n",
       "3       is\n",
       "4     Nima\n",
       "dtype: string"
      ]
     },
     "execution_count": 67,
     "metadata": {},
     "output_type": "execute_result"
    }
   ],
   "source": [
    "s2"
   ]
  },
  {
   "cell_type": "code",
   "execution_count": 68,
   "id": "d1070d68",
   "metadata": {},
   "outputs": [
    {
     "data": {
      "text/plain": [
       "0    5\n",
       "1    2\n",
       "2    4\n",
       "3    2\n",
       "4    4\n",
       "dtype: Int64"
      ]
     },
     "execution_count": 68,
     "metadata": {},
     "output_type": "execute_result"
    }
   ],
   "source": [
    "s2.str.len()"
   ]
  },
  {
   "cell_type": "code",
   "execution_count": 69,
   "id": "cd741694",
   "metadata": {},
   "outputs": [
    {
     "data": {
      "text/plain": [
       "5"
      ]
     },
     "execution_count": 69,
     "metadata": {},
     "output_type": "execute_result"
    }
   ],
   "source": [
    "s2.str.len().max()"
   ]
  },
  {
   "cell_type": "code",
   "execution_count": 70,
   "id": "6b0fd9bd",
   "metadata": {},
   "outputs": [
    {
     "data": {
      "text/plain": [
       "17"
      ]
     },
     "execution_count": 70,
     "metadata": {},
     "output_type": "execute_result"
    }
   ],
   "source": [
    "s2.str.len().sum()"
   ]
  },
  {
   "cell_type": "code",
   "execution_count": 72,
   "id": "ea2276fc",
   "metadata": {},
   "outputs": [
    {
     "data": {
      "text/plain": [
       "3.4"
      ]
     },
     "execution_count": 72,
     "metadata": {},
     "output_type": "execute_result"
    }
   ],
   "source": [
    "s2.str.len().sum() / len(s2)"
   ]
  },
  {
   "cell_type": "code",
   "execution_count": 73,
   "id": "19d9a0a6",
   "metadata": {},
   "outputs": [
    {
     "data": {
      "text/plain": [
       "3.4"
      ]
     },
     "execution_count": 73,
     "metadata": {},
     "output_type": "execute_result"
    }
   ],
   "source": [
    "s2.str.len().mean()"
   ]
  },
  {
   "cell_type": "code",
   "execution_count": 64,
   "id": "dff2c379",
   "metadata": {},
   "outputs": [
    {
     "data": {
      "text/plain": [
       "0      Hi\n",
       "1      my\n",
       "2    name\n",
       "3      is\n",
       "4    Nima\n",
       "dtype: string"
      ]
     },
     "execution_count": 64,
     "metadata": {},
     "output_type": "execute_result"
    }
   ],
   "source": [
    "s2.str.replace('Hello','Hi')"
   ]
  },
  {
   "cell_type": "code",
   "execution_count": 74,
   "id": "a4755556",
   "metadata": {},
   "outputs": [
    {
     "data": {
      "text/plain": [
       "0    0\n",
       "1    0\n",
       "2    0\n",
       "3    1\n",
       "4    0\n",
       "dtype: Int64"
      ]
     },
     "execution_count": 74,
     "metadata": {},
     "output_type": "execute_result"
    }
   ],
   "source": [
    "s2.str.count('is')"
   ]
  },
  {
   "cell_type": "code",
   "execution_count": 76,
   "id": "8dbe562e",
   "metadata": {},
   "outputs": [
    {
     "data": {
      "text/plain": [
       "1"
      ]
     },
     "execution_count": 76,
     "metadata": {},
     "output_type": "execute_result"
    }
   ],
   "source": [
    "sum(s2.str.count('is'))"
   ]
  },
  {
   "cell_type": "code",
   "execution_count": 75,
   "id": "b19a4fc6",
   "metadata": {},
   "outputs": [
    {
     "data": {
      "text/plain": [
       "0    0\n",
       "1    1\n",
       "2    1\n",
       "3    0\n",
       "4    1\n",
       "dtype: Int64"
      ]
     },
     "execution_count": 75,
     "metadata": {},
     "output_type": "execute_result"
    }
   ],
   "source": [
    "s2.str.count('m')"
   ]
  },
  {
   "cell_type": "code",
   "execution_count": 77,
   "id": "9e634e06",
   "metadata": {},
   "outputs": [
    {
     "data": {
      "text/plain": [
       "3"
      ]
     },
     "execution_count": 77,
     "metadata": {},
     "output_type": "execute_result"
    }
   ],
   "source": [
    "sum(s2.str.count('m'))"
   ]
  },
  {
   "cell_type": "markdown",
   "id": "808c09c9",
   "metadata": {},
   "source": [
    "# \n"
   ]
  },
  {
   "cell_type": "code",
   "execution_count": 2,
   "id": "02a2ae27",
   "metadata": {},
   "outputs": [
    {
     "data": {
      "text/html": [
       "<div>\n",
       "<style scoped>\n",
       "    .dataframe tbody tr th:only-of-type {\n",
       "        vertical-align: middle;\n",
       "    }\n",
       "\n",
       "    .dataframe tbody tr th {\n",
       "        vertical-align: top;\n",
       "    }\n",
       "\n",
       "    .dataframe thead th {\n",
       "        text-align: right;\n",
       "    }\n",
       "</style>\n",
       "<table border=\"1\" class=\"dataframe\">\n",
       "  <thead>\n",
       "    <tr style=\"text-align: right;\">\n",
       "      <th></th>\n",
       "      <th>Target</th>\n",
       "      <th>Email</th>\n",
       "    </tr>\n",
       "  </thead>\n",
       "  <tbody>\n",
       "    <tr>\n",
       "      <th>0</th>\n",
       "      <td>ham</td>\n",
       "      <td>Go until jurong point, crazy.. Available only ...</td>\n",
       "    </tr>\n",
       "    <tr>\n",
       "      <th>1</th>\n",
       "      <td>ham</td>\n",
       "      <td>Ok lar... Joking wif u oni...</td>\n",
       "    </tr>\n",
       "    <tr>\n",
       "      <th>2</th>\n",
       "      <td>spam</td>\n",
       "      <td>Free entry in 2 a wkly comp to win FA Cup fina...</td>\n",
       "    </tr>\n",
       "    <tr>\n",
       "      <th>3</th>\n",
       "      <td>ham</td>\n",
       "      <td>U dun say so early hor... U c already then say...</td>\n",
       "    </tr>\n",
       "    <tr>\n",
       "      <th>4</th>\n",
       "      <td>ham</td>\n",
       "      <td>Nah I don't think he goes to usf, he lives aro...</td>\n",
       "    </tr>\n",
       "    <tr>\n",
       "      <th>...</th>\n",
       "      <td>...</td>\n",
       "      <td>...</td>\n",
       "    </tr>\n",
       "    <tr>\n",
       "      <th>5567</th>\n",
       "      <td>spam</td>\n",
       "      <td>This is the 2nd time we have tried 2 contact u...</td>\n",
       "    </tr>\n",
       "    <tr>\n",
       "      <th>5568</th>\n",
       "      <td>ham</td>\n",
       "      <td>Will  b going to esplanade fr home?</td>\n",
       "    </tr>\n",
       "    <tr>\n",
       "      <th>5569</th>\n",
       "      <td>ham</td>\n",
       "      <td>Pity, * was in mood for that. So...any other s...</td>\n",
       "    </tr>\n",
       "    <tr>\n",
       "      <th>5570</th>\n",
       "      <td>ham</td>\n",
       "      <td>The guy did some bitching but I acted like i'd...</td>\n",
       "    </tr>\n",
       "    <tr>\n",
       "      <th>5571</th>\n",
       "      <td>ham</td>\n",
       "      <td>Rofl. Its true to its name</td>\n",
       "    </tr>\n",
       "  </tbody>\n",
       "</table>\n",
       "<p>5572 rows × 2 columns</p>\n",
       "</div>"
      ],
      "text/plain": [
       "     Target                                              Email\n",
       "0       ham  Go until jurong point, crazy.. Available only ...\n",
       "1       ham                      Ok lar... Joking wif u oni...\n",
       "2      spam  Free entry in 2 a wkly comp to win FA Cup fina...\n",
       "3       ham  U dun say so early hor... U c already then say...\n",
       "4       ham  Nah I don't think he goes to usf, he lives aro...\n",
       "...     ...                                                ...\n",
       "5567   spam  This is the 2nd time we have tried 2 contact u...\n",
       "5568    ham                Will  b going to esplanade fr home?\n",
       "5569    ham  Pity, * was in mood for that. So...any other s...\n",
       "5570    ham  The guy did some bitching but I acted like i'd...\n",
       "5571    ham                         Rofl. Its true to its name\n",
       "\n",
       "[5572 rows x 2 columns]"
      ]
     },
     "execution_count": 2,
     "metadata": {},
     "output_type": "execute_result"
    }
   ],
   "source": [
    "Email = pd.read_csv('./datasets/SMSSpamCollection.txt',\n",
    "                   sep='\\t', header=None, names=['Target', 'Email'])\n",
    "Email"
   ]
  },
  {
   "cell_type": "code",
   "execution_count": 80,
   "id": "ff75a9a7",
   "metadata": {},
   "outputs": [
    {
     "data": {
      "text/html": [
       "<div>\n",
       "<style scoped>\n",
       "    .dataframe tbody tr th:only-of-type {\n",
       "        vertical-align: middle;\n",
       "    }\n",
       "\n",
       "    .dataframe tbody tr th {\n",
       "        vertical-align: top;\n",
       "    }\n",
       "\n",
       "    .dataframe thead th {\n",
       "        text-align: right;\n",
       "    }\n",
       "</style>\n",
       "<table border=\"1\" class=\"dataframe\">\n",
       "  <thead>\n",
       "    <tr style=\"text-align: right;\">\n",
       "      <th></th>\n",
       "      <th>Target</th>\n",
       "      <th>Email</th>\n",
       "    </tr>\n",
       "  </thead>\n",
       "  <tbody>\n",
       "    <tr>\n",
       "      <th>1612</th>\n",
       "      <td>ham</td>\n",
       "      <td>645</td>\n",
       "    </tr>\n",
       "  </tbody>\n",
       "</table>\n",
       "</div>"
      ],
      "text/plain": [
       "     Target Email\n",
       "1612    ham   645"
      ]
     },
     "execution_count": 80,
     "metadata": {},
     "output_type": "execute_result"
    }
   ],
   "source": [
    "mask = Email['Email'].str.isdigit()\n",
    "Email[mask]"
   ]
  },
  {
   "cell_type": "code",
   "execution_count": 81,
   "id": "d2f8fc52",
   "metadata": {},
   "outputs": [
    {
     "data": {
      "text/plain": [
       "0       111\n",
       "1        29\n",
       "2       155\n",
       "3        49\n",
       "4        61\n",
       "       ... \n",
       "5567    160\n",
       "5568     35\n",
       "5569     57\n",
       "5570    125\n",
       "5571     26\n",
       "Name: Email, Length: 5572, dtype: int64"
      ]
     },
     "execution_count": 81,
     "metadata": {},
     "output_type": "execute_result"
    }
   ],
   "source": [
    "Email['Email'].str.len()"
   ]
  },
  {
   "cell_type": "code",
   "execution_count": 82,
   "id": "1f92c37b",
   "metadata": {},
   "outputs": [
    {
     "data": {
      "text/plain": [
       "910"
      ]
     },
     "execution_count": 82,
     "metadata": {},
     "output_type": "execute_result"
    }
   ],
   "source": [
    "Email['Email'].str.len().max()"
   ]
  },
  {
   "cell_type": "code",
   "execution_count": 84,
   "id": "fe541816",
   "metadata": {},
   "outputs": [
    {
     "data": {
      "text/plain": [
       "2"
      ]
     },
     "execution_count": 84,
     "metadata": {},
     "output_type": "execute_result"
    }
   ],
   "source": [
    "Email['Email'].str.len().min()"
   ]
  },
  {
   "cell_type": "code",
   "execution_count": 88,
   "id": "a30ace80",
   "metadata": {},
   "outputs": [],
   "source": [
    "MIN = Email['Email'].str.len().min()"
   ]
  },
  {
   "cell_type": "code",
   "execution_count": 89,
   "id": "3a5c11b9",
   "metadata": {},
   "outputs": [
    {
     "data": {
      "text/plain": [
       "1925    Ok\n",
       "3051    Ok\n",
       "4498    Ok\n",
       "5357    Ok\n",
       "Name: Email, dtype: object"
      ]
     },
     "execution_count": 89,
     "metadata": {},
     "output_type": "execute_result"
    }
   ],
   "source": [
    "mask = Email['Email'].str.len() == MIN\n",
    "Email['Email'][mask]"
   ]
  },
  {
   "cell_type": "code",
   "execution_count": 91,
   "id": "d735f726",
   "metadata": {},
   "outputs": [
    {
     "data": {
      "text/plain": [
       "612"
      ]
     },
     "execution_count": 91,
     "metadata": {},
     "output_type": "execute_result"
    }
   ],
   "source": [
    "sum(Email['Email'].str.count('are'))"
   ]
  },
  {
   "cell_type": "code",
   "execution_count": 92,
   "id": "ca99a3bd",
   "metadata": {},
   "outputs": [
    {
     "data": {
      "text/plain": [
       "'Go until jurong point, crazy.. Available only in bugis n great world la e buffet... Cine there got amore wat...'"
      ]
     },
     "execution_count": 92,
     "metadata": {},
     "output_type": "execute_result"
    }
   ],
   "source": [
    "Email['Email'][0]"
   ]
  },
  {
   "cell_type": "code",
   "execution_count": 95,
   "id": "8d037d01",
   "metadata": {},
   "outputs": [
    {
     "data": {
      "text/plain": [
       "['Go',\n",
       " 'until',\n",
       " 'jurong',\n",
       " 'point,',\n",
       " 'crazy..',\n",
       " 'Available',\n",
       " 'only',\n",
       " 'in',\n",
       " 'bugis',\n",
       " 'n',\n",
       " 'great',\n",
       " 'world',\n",
       " 'la',\n",
       " 'e',\n",
       " 'buffet...',\n",
       " 'Cine',\n",
       " 'there',\n",
       " 'got',\n",
       " 'amore',\n",
       " 'wat...']"
      ]
     },
     "execution_count": 95,
     "metadata": {},
     "output_type": "execute_result"
    }
   ],
   "source": [
    "words = Email['Email'].str.split(' ')[0]\n",
    "words"
   ]
  },
  {
   "cell_type": "code",
   "execution_count": 96,
   "id": "d0db7e75",
   "metadata": {},
   "outputs": [
    {
     "data": {
      "text/plain": [
       "20"
      ]
     },
     "execution_count": 96,
     "metadata": {},
     "output_type": "execute_result"
    }
   ],
   "source": [
    "len(words)"
   ]
  },
  {
   "cell_type": "markdown",
   "id": "79b17be8",
   "metadata": {},
   "source": [
    "<div class=\"alert alert-success\">\n",
    "    <b>EXERCISE</b>:\n",
    "     <ul>\n",
    "      <li>\n",
    "          <h5>How to find the 'word len' of every emails?</h5>  </br>\n",
    "          Hint: do not use 'for' loop. Why?\n",
    "      </li>\n",
    "    </ul>\n",
    "</div>"
   ]
  },
  {
   "cell_type": "code",
   "execution_count": 41,
   "id": "392ea233",
   "metadata": {},
   "outputs": [],
   "source": [
    "# %load solutions/python-pandas-4-solution.py"
   ]
  },
  {
   "cell_type": "code",
   "execution_count": 102,
   "id": "e40d6773",
   "metadata": {},
   "outputs": [],
   "source": []
  },
  {
   "cell_type": "markdown",
   "id": "db394b21",
   "metadata": {},
   "source": [
    "### Work with stop words"
   ]
  },
  {
   "cell_type": "code",
   "execution_count": 111,
   "id": "e8f1843f",
   "metadata": {},
   "outputs": [
    {
     "data": {
      "text/plain": [
       "1298"
      ]
     },
     "execution_count": 111,
     "metadata": {},
     "output_type": "execute_result"
    }
   ],
   "source": [
    "StopWords = pd.read_json('./datasets/stopwords-en.json')\n",
    "n= StopWords.to_numpy()\n",
    "len(n)"
   ]
  },
  {
   "cell_type": "code",
   "execution_count": 114,
   "id": "8b1febc5",
   "metadata": {},
   "outputs": [],
   "source": [
    "def remove(x):\n",
    "    StopWords = pd.read_json('./datasets/stopwords-en.json')\n",
    "    n = StopWords.to_numpy()\n",
    "    return \" \".join(w for w in x.split() if w not in n)"
   ]
  },
  {
   "cell_type": "code",
   "execution_count": 120,
   "id": "eadb1325",
   "metadata": {},
   "outputs": [
    {
     "name": "stdout",
     "output_type": "stream",
     "text": [
      "Wall time: 14.4 s\n"
     ]
    },
    {
     "data": {
      "text/plain": [
       "0       Go jurong point, crazy.. Available bugis buffe...\n",
       "1                             Ok lar... Joking wif oni...\n",
       "2       Free entry 2 wkly comp win FA Cup final tkts 2...\n",
       "3                                   U dun hor... U say...\n",
       "4                                        Nah I usf, lives\n",
       "                              ...                        \n",
       "5567    This 2nd time 2 contact u. U $750 Pound prize....\n",
       "5568                                 Will esplanade home?\n",
       "5569             Pity, * mood that. So...any suggestions?\n",
       "5570                 The guy bitching I acted buying week\n",
       "5571                                       Rofl. Its true\n",
       "Name: Email, Length: 5572, dtype: object"
      ]
     },
     "execution_count": 120,
     "metadata": {},
     "output_type": "execute_result"
    }
   ],
   "source": [
    "%%time\n",
    "# Emails without stop words\n",
    "Email_wo_sws = Email['Email'].apply(remove)\n",
    "Email_wo_sws"
   ]
  },
  {
   "cell_type": "code",
   "execution_count": 121,
   "id": "cf2c4ea1",
   "metadata": {},
   "outputs": [
    {
     "name": "stdout",
     "output_type": "stream",
     "text": [
      "Wall time: 3.27 s\n"
     ]
    },
    {
     "data": {
      "text/plain": [
       "0       Go jurong point, crazy.. Available bugis buffe...\n",
       "1                             Ok lar... Joking wif oni...\n",
       "2       Free entry 2 wkly comp win FA Cup final tkts 2...\n",
       "3                                   U dun hor... U say...\n",
       "4                                        Nah I usf, lives\n",
       "                              ...                        \n",
       "5567    This 2nd time 2 contact u. U $750 Pound prize....\n",
       "5568                                 Will esplanade home?\n",
       "5569             Pity, * mood that. So...any suggestions?\n",
       "5570                 The guy bitching I acted buying week\n",
       "5571                                       Rofl. Its true\n",
       "Name: Email, Length: 5572, dtype: object"
      ]
     },
     "execution_count": 121,
     "metadata": {},
     "output_type": "execute_result"
    }
   ],
   "source": [
    "%%time\n",
    "Email_wo_sws2 = Email['Email'].apply(lambda x: \" \".join(x for x in x.split() if x not in n ))\n",
    "Email_wo_sws2"
   ]
  },
  {
   "cell_type": "code",
   "execution_count": 122,
   "id": "95965b14",
   "metadata": {},
   "outputs": [
    {
     "data": {
      "text/plain": [
       "'Go until jurong point, crazy.. Available only in bugis n great world la e buffet... Cine there got amore wat...'"
      ]
     },
     "execution_count": 122,
     "metadata": {},
     "output_type": "execute_result"
    }
   ],
   "source": [
    "Email['Email'][0]"
   ]
  },
  {
   "cell_type": "code",
   "execution_count": 124,
   "id": "a90a6b60",
   "metadata": {},
   "outputs": [
    {
     "data": {
      "text/plain": [
       "'Go jurong point, crazy.. Available bugis buffet... Cine amore wat...'"
      ]
     },
     "execution_count": 124,
     "metadata": {},
     "output_type": "execute_result"
    }
   ],
   "source": [
    "Email_wo_sws[0]"
   ]
  },
  {
   "cell_type": "code",
   "execution_count": 125,
   "id": "e2a381f4",
   "metadata": {},
   "outputs": [
    {
     "data": {
      "text/plain": [
       "'Go jurong point, crazy.. Available bugis buffet... Cine amore wat...'"
      ]
     },
     "execution_count": 125,
     "metadata": {},
     "output_type": "execute_result"
    }
   ],
   "source": [
    "Email_wo_sws2[0]"
   ]
  },
  {
   "cell_type": "markdown",
   "id": "65aba4f8",
   "metadata": {},
   "source": [
    "\n",
    "\n"
   ]
  },
  {
   "cell_type": "markdown",
   "id": "6305063e",
   "metadata": {},
   "source": [
    "\n",
    "\n"
   ]
  },
  {
   "cell_type": "markdown",
   "id": "146cdcef",
   "metadata": {},
   "source": [
    "### now we will proceed to examine some practical functions:"
   ]
  },
  {
   "cell_type": "code",
   "execution_count": 126,
   "id": "6c698476",
   "metadata": {},
   "outputs": [
    {
     "data": {
      "text/plain": [
       "0    Go until jurong point, crazy.. Available only ...\n",
       "1                        Ok lar... Joking wif u oni...\n",
       "2    Free entry in 2 a wkly comp to win FA Cup fina...\n",
       "3    U dun say so early hor... U c already then say...\n",
       "4    Nah I don't think he goes to usf, he lives aro...\n",
       "5    FreeMsg Hey there darling it's been 3 week's n...\n",
       "6    Even my brother is not like to speak with me. ...\n",
       "7    As per your request 'Melle Melle (Oru Minnamin...\n",
       "8    WINNER!! As a valued network customer you have...\n",
       "9    Had your mobile 11 months or more? U R entitle...\n",
       "Name: Email, dtype: object"
      ]
     },
     "execution_count": 126,
     "metadata": {},
     "output_type": "execute_result"
    }
   ],
   "source": [
    "first_ten_emails = Email['Email'][0:10]\n",
    "first_ten_emails"
   ]
  },
  {
   "cell_type": "code",
   "execution_count": 127,
   "id": "108106b7",
   "metadata": {},
   "outputs": [
    {
     "data": {
      "text/plain": [
       "0    G\n",
       "1    O\n",
       "2    F\n",
       "3    U\n",
       "4    N\n",
       "5    F\n",
       "6    E\n",
       "7    A\n",
       "8    W\n",
       "9    H\n",
       "Name: Email, dtype: object"
      ]
     },
     "execution_count": 127,
     "metadata": {},
     "output_type": "execute_result"
    }
   ],
   "source": [
    "first_ten_emails.str.get(0)"
   ]
  },
  {
   "cell_type": "code",
   "execution_count": 128,
   "id": "3b6b6f3f",
   "metadata": {},
   "outputs": [
    {
     "data": {
      "text/plain": [
       "0    .\n",
       "1    .\n",
       "2    s\n",
       "3    .\n",
       "4    h\n",
       "5    v\n",
       "6    .\n",
       "7    e\n",
       "8    .\n",
       "9    0\n",
       "Name: Email, dtype: object"
      ]
     },
     "execution_count": 128,
     "metadata": {},
     "output_type": "execute_result"
    }
   ],
   "source": [
    "first_ten_emails.str.get(-1)"
   ]
  },
  {
   "cell_type": "code",
   "execution_count": 131,
   "id": "1861d318",
   "metadata": {},
   "outputs": [
    {
     "data": {
      "text/plain": [
       "0       23\n",
       "1       -1\n",
       "2       -1\n",
       "3       -1\n",
       "4       -1\n",
       "        ..\n",
       "5567    -1\n",
       "5568    -1\n",
       "5569    -1\n",
       "5570    -1\n",
       "5571    -1\n",
       "Name: Email, Length: 5572, dtype: int64"
      ]
     },
     "execution_count": 131,
     "metadata": {},
     "output_type": "execute_result"
    }
   ],
   "source": [
    "Email['Email'].str.find('crazy')"
   ]
  },
  {
   "cell_type": "code",
   "execution_count": 133,
   "id": "05063ccb",
   "metadata": {},
   "outputs": [
    {
     "data": {
      "text/plain": [
       "'crazy'"
      ]
     },
     "execution_count": 133,
     "metadata": {},
     "output_type": "execute_result"
    }
   ],
   "source": [
    "Email['Email'][0][23:28]"
   ]
  },
  {
   "cell_type": "code",
   "execution_count": 135,
   "id": "d5da574a",
   "metadata": {},
   "outputs": [
    {
     "data": {
      "text/plain": [
       "11"
      ]
     },
     "execution_count": 135,
     "metadata": {},
     "output_type": "execute_result"
    }
   ],
   "source": [
    "mask = Email['Email'].str.find('crazy') != -1"
   ]
  },
  {
   "cell_type": "code",
   "execution_count": 136,
   "id": "8c85f01a",
   "metadata": {},
   "outputs": [
    {
     "data": {
      "text/plain": [
       "0       Go until jurong point, crazy.. Available only ...\n",
       "1011    Lol I would but my mom would have a fit and te...\n",
       "1668    So now my dad is gonna call after he gets out ...\n",
       "2803    And smile for me right now as you go and the w...\n",
       "2848    Free-message: Jamster!Get the crazy frog sound...\n",
       "2930    Where wuld I be without my baby? The thought a...\n",
       "3099             This is all just creepy and crazy to me.\n",
       "3752        Haha... Sounds crazy, dunno can tahan anot...\n",
       "4974    Oops I was in the shower when u called. Hey a ...\n",
       "5098    TheMob>Hit the link to get a premium Pink Pant...\n",
       "5511                 Its reassuring, in this crazy world.\n",
       "Name: Email, dtype: object"
      ]
     },
     "execution_count": 136,
     "metadata": {},
     "output_type": "execute_result"
    }
   ],
   "source": [
    "Email['Email'][mask]"
   ]
  },
  {
   "cell_type": "code",
   "execution_count": 137,
   "id": "46d35a3f",
   "metadata": {},
   "outputs": [
    {
     "data": {
      "text/plain": [
       "11"
      ]
     },
     "execution_count": 137,
     "metadata": {},
     "output_type": "execute_result"
    }
   ],
   "source": [
    "len(Email['Email'][mask])"
   ]
  },
  {
   "cell_type": "code",
   "execution_count": 141,
   "id": "5d0ac64d",
   "metadata": {},
   "outputs": [
    {
     "data": {
      "text/plain": [
       "167"
      ]
     },
     "execution_count": 141,
     "metadata": {},
     "output_type": "execute_result"
    }
   ],
   "source": [
    "# searching for 'love'\n",
    "mask = Email['Email'].str.find('love') != -1\n",
    "len(Email['Email'][mask])"
   ]
  },
  {
   "cell_type": "code",
   "execution_count": 146,
   "id": "4be90e69",
   "metadata": {},
   "outputs": [
    {
     "data": {
      "text/plain": [
       "0       52\n",
       "1       -1\n",
       "2       -1\n",
       "3       -1\n",
       "4       -1\n",
       "        ..\n",
       "5567     2\n",
       "5568    -1\n",
       "5569    -1\n",
       "5570    -1\n",
       "5571    -1\n",
       "Name: Email, Length: 5572, dtype: int64"
      ]
     },
     "execution_count": 146,
     "metadata": {},
     "output_type": "execute_result"
    }
   ],
   "source": [
    "Email['Email'].str.find('is')"
   ]
  },
  {
   "cell_type": "code",
   "execution_count": 145,
   "id": "3e167b8e",
   "metadata": {},
   "outputs": [
    {
     "data": {
      "text/plain": [
       "0               [is]\n",
       "1                 []\n",
       "2                 []\n",
       "3                 []\n",
       "4                 []\n",
       "            ...     \n",
       "5567    [is, is, is]\n",
       "5568              []\n",
       "5569              []\n",
       "5570              []\n",
       "5571              []\n",
       "Name: Email, Length: 5572, dtype: object"
      ]
     },
     "execution_count": 145,
     "metadata": {},
     "output_type": "execute_result"
    }
   ],
   "source": [
    "Email['Email'].str.findall('is')"
   ]
  },
  {
   "cell_type": "code",
   "execution_count": 149,
   "id": "88869b4d",
   "metadata": {},
   "outputs": [
    {
     "data": {
      "text/plain": [
       "[]                                            4121\n",
       "['is']                                        1029\n",
       "['is', 'is']                                   312\n",
       "['is', 'is', 'is']                              79\n",
       "['is', 'is', 'is', 'is']                        23\n",
       "['is', 'is', 'is', 'is', 'is']                   6\n",
       "['is', 'is', 'is', 'is', 'is', 'is', 'is']       2\n",
       "Name: Email, dtype: Int64"
      ]
     },
     "execution_count": 149,
     "metadata": {},
     "output_type": "execute_result"
    }
   ],
   "source": [
    "S = Email['Email'].str.findall('is')\n",
    "S = S.astype('string')\n",
    "S.value_counts()"
   ]
  },
  {
   "cell_type": "code",
   "execution_count": null,
   "id": "41cac0dd",
   "metadata": {},
   "outputs": [],
   "source": []
  },
  {
   "cell_type": "code",
   "execution_count": 150,
   "id": "99dda4e0",
   "metadata": {},
   "outputs": [
    {
     "data": {
      "text/plain": [
       "0       Go*until*jurong*point,*crazy..*Available*only*...\n",
       "1                           Ok*lar...*Joking*wif*u*oni...\n",
       "2       Free*entry*in*2*a*wkly*comp*to*win*FA*Cup*fina...\n",
       "3       U*dun*say*so*early*hor...*U*c*already*then*say...\n",
       "4       Nah*I*don't*think*he*goes*to*usf,*he*lives*aro...\n",
       "                              ...                        \n",
       "5567    This*is*the*2nd*time*we*have*tried*2*contact*u...\n",
       "5568                   Will*b*going*to*esplanade*fr*home?\n",
       "5569    Pity,***was*in*mood*for*that.*So...any*other*s...\n",
       "5570    The*guy*did*some*bitching*but*I*acted*like*i'd...\n",
       "5571                           Rofl.*Its*true*to*its*name\n",
       "Name: Email, Length: 5572, dtype: object"
      ]
     },
     "execution_count": 150,
     "metadata": {},
     "output_type": "execute_result"
    }
   ],
   "source": [
    "ss = Email['Email'].str.split()\n",
    "ss = ss.str.join('*')\n",
    "ss"
   ]
  },
  {
   "cell_type": "code",
   "execution_count": 151,
   "id": "ca54e49a",
   "metadata": {},
   "outputs": [
    {
     "data": {
      "text/plain": [
       "0    Hello\n",
       "1       my\n",
       "2     name\n",
       "3       is\n",
       "4     Nima\n",
       "dtype: string"
      ]
     },
     "execution_count": 151,
     "metadata": {},
     "output_type": "execute_result"
    }
   ],
   "source": [
    "s2"
   ]
  },
  {
   "cell_type": "code",
   "execution_count": 152,
   "id": "64e82b6d",
   "metadata": {},
   "outputs": [
    {
     "data": {
      "text/plain": [
       "0    Hello     \n",
       "1    my        \n",
       "2    name      \n",
       "3    is        \n",
       "4    Nima      \n",
       "dtype: string"
      ]
     },
     "execution_count": 152,
     "metadata": {},
     "output_type": "execute_result"
    }
   ],
   "source": [
    "s2.str.pad(width=10, side='right', fillchar=' ')"
   ]
  },
  {
   "cell_type": "code",
   "execution_count": 157,
   "id": "0e3edb9f",
   "metadata": {},
   "outputs": [
    {
     "data": {
      "text/plain": [
       "0    ^^^^^Hello\n",
       "1    ^^^^^^^^my\n",
       "2    ^^^^^^name\n",
       "3    ^^^^^^^^is\n",
       "4    ^^^^^^Nima\n",
       "dtype: string"
      ]
     },
     "execution_count": 157,
     "metadata": {},
     "output_type": "execute_result"
    }
   ],
   "source": [
    "s2.str.pad(width=10, side='left', fillchar='^')"
   ]
  },
  {
   "cell_type": "code",
   "execution_count": 155,
   "id": "8a59622e",
   "metadata": {},
   "outputs": [
    {
     "data": {
      "text/plain": [
       "0    **Hello***\n",
       "1    ****my****\n",
       "2    ***name***\n",
       "3    ****is****\n",
       "4    ***Nima***\n",
       "dtype: string"
      ]
     },
     "execution_count": 155,
     "metadata": {},
     "output_type": "execute_result"
    }
   ],
   "source": [
    "s2.str.pad(width=10, side='both', fillchar='*')"
   ]
  },
  {
   "cell_type": "code",
   "execution_count": null,
   "id": "a19a8f85",
   "metadata": {},
   "outputs": [],
   "source": []
  },
  {
   "cell_type": "code",
   "execution_count": 159,
   "id": "8a62aae9",
   "metadata": {},
   "outputs": [
    {
     "data": {
      "text/plain": [
       "0    He\n",
       "1    my\n",
       "2    na\n",
       "3    is\n",
       "4    Ni\n",
       "dtype: string"
      ]
     },
     "execution_count": 159,
     "metadata": {},
     "output_type": "execute_result"
    }
   ],
   "source": [
    "s2.str.slice(start=0, stop=2, step=1)"
   ]
  },
  {
   "cell_type": "code",
   "execution_count": 160,
   "id": "982c8800",
   "metadata": {},
   "outputs": [
    {
     "data": {
      "text/plain": [
       "0        [Go, until, jurong]\n",
       "1       [Ok, lar..., Joking]\n",
       "2          [Free, entry, in]\n",
       "3              [U, dun, say]\n",
       "4            [Nah, I, don't]\n",
       "                ...         \n",
       "5567         [This, is, the]\n",
       "5568        [Will, b, going]\n",
       "5569         [Pity,, *, was]\n",
       "5570         [The, guy, did]\n",
       "5571      [Rofl., Its, true]\n",
       "Name: Email, Length: 5572, dtype: object"
      ]
     },
     "execution_count": 160,
     "metadata": {},
     "output_type": "execute_result"
    }
   ],
   "source": [
    "slice1 = Email['Email'].str.split()\n",
    "slice1.str.slice(start=0, stop=3, step=1)"
   ]
  },
  {
   "cell_type": "code",
   "execution_count": null,
   "id": "09777c35",
   "metadata": {},
   "outputs": [],
   "source": []
  },
  {
   "cell_type": "code",
   "execution_count": null,
   "id": "d4f79ff2",
   "metadata": {},
   "outputs": [],
   "source": []
  },
  {
   "cell_type": "code",
   "execution_count": 174,
   "id": "13d81616",
   "metadata": {},
   "outputs": [
    {
     "data": {
      "text/plain": [
       "288     hi baby im cruisin with my girl friend what r ...\n",
       "2164    hi my darlin im on my way to London and we hav...\n",
       "4569    hiya hows it going in sunny africa? hope u r a...\n",
       "4952    hi baby im sat on the bloody bus at the mo and...\n",
       "Name: Email, dtype: object"
      ]
     },
     "execution_count": 174,
     "metadata": {},
     "output_type": "execute_result"
    }
   ],
   "source": [
    "mask = Email['Email'].str.startswith('hi')\n",
    "Email['Email'][mask]"
   ]
  },
  {
   "cell_type": "code",
   "execution_count": 175,
   "id": "7965dddf",
   "metadata": {},
   "outputs": [
    {
     "data": {
      "text/plain": [
       "4"
      ]
     },
     "execution_count": 175,
     "metadata": {},
     "output_type": "execute_result"
    }
   ],
   "source": [
    "len(Email['Email'][mask])"
   ]
  },
  {
   "cell_type": "code",
   "execution_count": 176,
   "id": "cba5bb03",
   "metadata": {},
   "outputs": [
    {
     "data": {
      "text/plain": [
       "288     hi baby im cruisin with my girl friend what r ...\n",
       "2164    hi my darlin im on my way to London and we hav...\n",
       "4952    hi baby im sat on the bloody bus at the mo and...\n",
       "Name: Email, dtype: object"
      ]
     },
     "execution_count": 176,
     "metadata": {},
     "output_type": "execute_result"
    }
   ],
   "source": [
    "mask = Email['Email'].str.startswith('hi ') #space\n",
    "Email['Email'][mask]"
   ]
  },
  {
   "cell_type": "code",
   "execution_count": 177,
   "id": "2da7d10a",
   "metadata": {},
   "outputs": [
    {
     "data": {
      "text/plain": [
       "3"
      ]
     },
     "execution_count": 177,
     "metadata": {},
     "output_type": "execute_result"
    }
   ],
   "source": [
    "len(Email['Email'][mask])"
   ]
  },
  {
   "cell_type": "code",
   "execution_count": 168,
   "id": "a2264466",
   "metadata": {},
   "outputs": [
    {
     "data": {
      "text/plain": [
       "365     Good afternoon sunshine! How dawns that day ? ...\n",
       "536     Good afternoon, my love! How goes that day ? I...\n",
       "821     Good afternoon starshine! How's my boytoy? Doe...\n",
       "1021    Good afternoon on this glorious anniversary da...\n",
       "1107    Good afternoon, my love. How goes your day ? W...\n",
       "1358    Good afternoon loverboy ! How goes you day ? A...\n",
       "1546    Good afternoon, my love ! Any job prospects ? ...\n",
       "1773    Good afternoon sexy buns! How goes the job sea...\n",
       "2464    Good afternoon, babe. How goes that day ? Any ...\n",
       "2674    Good afternoon, my boytoy ... How are you feel...\n",
       "4084    Good afternoon, my love. It was good to see yo...\n",
       "4562    Good afternoon my boytoy. How goes that walkin...\n",
       "5495    Good afternoon, my love ... How goes your day ...\n",
       "Name: Email, dtype: object"
      ]
     },
     "execution_count": 168,
     "metadata": {},
     "output_type": "execute_result"
    }
   ],
   "source": [
    "mask = Email['Email'].str.startswith('Good afternoon')\n",
    "Email['Email'][mask]"
   ]
  },
  {
   "cell_type": "code",
   "execution_count": 169,
   "id": "02fc2bb2",
   "metadata": {},
   "outputs": [
    {
     "data": {
      "text/plain": [
       "13"
      ]
     },
     "execution_count": 169,
     "metadata": {},
     "output_type": "execute_result"
    }
   ],
   "source": [
    "len(Email['Email'][mask])"
   ]
  },
  {
   "cell_type": "code",
   "execution_count": 9,
   "id": "f4a8265c",
   "metadata": {},
   "outputs": [
    {
     "data": {
      "text/plain": [
       "195     How are you doing? Hope you've settled in for ...\n",
       "196                          Gud mrng dear hav a nice day\n",
       "597                         Gud mrng dear have a nice day\n",
       "790                          Gud mrng dear hav a nice day\n",
       "1361    Yo dude guess who just got arrested the other day\n",
       "1584    It's cool, let me know before it kicks off aro...\n",
       "2086     Moji i love you more than words. Have a rich day\n",
       "2363    How are you doing? Hope you've settled in for ...\n",
       "2970       Ma head dey swell oh. Thanks for making my day\n",
       "3733                         Gud mrng dear hav a nice day\n",
       "4910                             Will do. Have a good day\n",
       "5231    I realise you are a busy guy and i'm trying no...\n",
       "Name: Email, dtype: object"
      ]
     },
     "execution_count": 9,
     "metadata": {},
     "output_type": "execute_result"
    }
   ],
   "source": [
    "mask = Email['Email'].str.endswith(' day')\n",
    "Email['Email'][mask]"
   ]
  },
  {
   "cell_type": "code",
   "execution_count": 10,
   "id": "61a73ff4",
   "metadata": {},
   "outputs": [
    {
     "data": {
      "text/plain": [
       "12"
      ]
     },
     "execution_count": 10,
     "metadata": {},
     "output_type": "execute_result"
    }
   ],
   "source": [
    "len(Email['Email'][mask])"
   ]
  },
  {
   "cell_type": "code",
   "execution_count": null,
   "id": "63b130ae",
   "metadata": {},
   "outputs": [],
   "source": []
  },
  {
   "cell_type": "code",
   "execution_count": null,
   "id": "70780aad",
   "metadata": {},
   "outputs": [],
   "source": []
  },
  {
   "cell_type": "code",
   "execution_count": 11,
   "id": "55c84e78",
   "metadata": {},
   "outputs": [
    {
     "data": {
      "text/html": [
       "<div>\n",
       "<style scoped>\n",
       "    .dataframe tbody tr th:only-of-type {\n",
       "        vertical-align: middle;\n",
       "    }\n",
       "\n",
       "    .dataframe tbody tr th {\n",
       "        vertical-align: top;\n",
       "    }\n",
       "\n",
       "    .dataframe thead th {\n",
       "        text-align: right;\n",
       "    }\n",
       "</style>\n",
       "<table border=\"1\" class=\"dataframe\">\n",
       "  <thead>\n",
       "    <tr style=\"text-align: right;\">\n",
       "      <th></th>\n",
       "      <th>0</th>\n",
       "      <th>1</th>\n",
       "      <th>2</th>\n",
       "      <th>3</th>\n",
       "      <th>4</th>\n",
       "      <th>5</th>\n",
       "      <th>6</th>\n",
       "      <th>7</th>\n",
       "      <th>8</th>\n",
       "      <th>9</th>\n",
       "      <th>...</th>\n",
       "      <th>161</th>\n",
       "      <th>162</th>\n",
       "      <th>163</th>\n",
       "      <th>164</th>\n",
       "      <th>165</th>\n",
       "      <th>166</th>\n",
       "      <th>167</th>\n",
       "      <th>168</th>\n",
       "      <th>169</th>\n",
       "      <th>170</th>\n",
       "    </tr>\n",
       "  </thead>\n",
       "  <tbody>\n",
       "    <tr>\n",
       "      <th>0</th>\n",
       "      <td>Go</td>\n",
       "      <td>until</td>\n",
       "      <td>jurong</td>\n",
       "      <td>point,</td>\n",
       "      <td>crazy..</td>\n",
       "      <td>Available</td>\n",
       "      <td>only</td>\n",
       "      <td>in</td>\n",
       "      <td>bugis</td>\n",
       "      <td>n</td>\n",
       "      <td>...</td>\n",
       "      <td>None</td>\n",
       "      <td>None</td>\n",
       "      <td>None</td>\n",
       "      <td>None</td>\n",
       "      <td>None</td>\n",
       "      <td>None</td>\n",
       "      <td>None</td>\n",
       "      <td>None</td>\n",
       "      <td>None</td>\n",
       "      <td>None</td>\n",
       "    </tr>\n",
       "    <tr>\n",
       "      <th>1</th>\n",
       "      <td>Ok</td>\n",
       "      <td>lar...</td>\n",
       "      <td>Joking</td>\n",
       "      <td>wif</td>\n",
       "      <td>u</td>\n",
       "      <td>oni...</td>\n",
       "      <td>None</td>\n",
       "      <td>None</td>\n",
       "      <td>None</td>\n",
       "      <td>None</td>\n",
       "      <td>...</td>\n",
       "      <td>None</td>\n",
       "      <td>None</td>\n",
       "      <td>None</td>\n",
       "      <td>None</td>\n",
       "      <td>None</td>\n",
       "      <td>None</td>\n",
       "      <td>None</td>\n",
       "      <td>None</td>\n",
       "      <td>None</td>\n",
       "      <td>None</td>\n",
       "    </tr>\n",
       "    <tr>\n",
       "      <th>2</th>\n",
       "      <td>Free</td>\n",
       "      <td>entry</td>\n",
       "      <td>in</td>\n",
       "      <td>2</td>\n",
       "      <td>a</td>\n",
       "      <td>wkly</td>\n",
       "      <td>comp</td>\n",
       "      <td>to</td>\n",
       "      <td>win</td>\n",
       "      <td>FA</td>\n",
       "      <td>...</td>\n",
       "      <td>None</td>\n",
       "      <td>None</td>\n",
       "      <td>None</td>\n",
       "      <td>None</td>\n",
       "      <td>None</td>\n",
       "      <td>None</td>\n",
       "      <td>None</td>\n",
       "      <td>None</td>\n",
       "      <td>None</td>\n",
       "      <td>None</td>\n",
       "    </tr>\n",
       "    <tr>\n",
       "      <th>3</th>\n",
       "      <td>U</td>\n",
       "      <td>dun</td>\n",
       "      <td>say</td>\n",
       "      <td>so</td>\n",
       "      <td>early</td>\n",
       "      <td>hor...</td>\n",
       "      <td>U</td>\n",
       "      <td>c</td>\n",
       "      <td>already</td>\n",
       "      <td>then</td>\n",
       "      <td>...</td>\n",
       "      <td>None</td>\n",
       "      <td>None</td>\n",
       "      <td>None</td>\n",
       "      <td>None</td>\n",
       "      <td>None</td>\n",
       "      <td>None</td>\n",
       "      <td>None</td>\n",
       "      <td>None</td>\n",
       "      <td>None</td>\n",
       "      <td>None</td>\n",
       "    </tr>\n",
       "    <tr>\n",
       "      <th>4</th>\n",
       "      <td>Nah</td>\n",
       "      <td>I</td>\n",
       "      <td>don't</td>\n",
       "      <td>think</td>\n",
       "      <td>he</td>\n",
       "      <td>goes</td>\n",
       "      <td>to</td>\n",
       "      <td>usf,</td>\n",
       "      <td>he</td>\n",
       "      <td>lives</td>\n",
       "      <td>...</td>\n",
       "      <td>None</td>\n",
       "      <td>None</td>\n",
       "      <td>None</td>\n",
       "      <td>None</td>\n",
       "      <td>None</td>\n",
       "      <td>None</td>\n",
       "      <td>None</td>\n",
       "      <td>None</td>\n",
       "      <td>None</td>\n",
       "      <td>None</td>\n",
       "    </tr>\n",
       "    <tr>\n",
       "      <th>...</th>\n",
       "      <td>...</td>\n",
       "      <td>...</td>\n",
       "      <td>...</td>\n",
       "      <td>...</td>\n",
       "      <td>...</td>\n",
       "      <td>...</td>\n",
       "      <td>...</td>\n",
       "      <td>...</td>\n",
       "      <td>...</td>\n",
       "      <td>...</td>\n",
       "      <td>...</td>\n",
       "      <td>...</td>\n",
       "      <td>...</td>\n",
       "      <td>...</td>\n",
       "      <td>...</td>\n",
       "      <td>...</td>\n",
       "      <td>...</td>\n",
       "      <td>...</td>\n",
       "      <td>...</td>\n",
       "      <td>...</td>\n",
       "      <td>...</td>\n",
       "    </tr>\n",
       "    <tr>\n",
       "      <th>5567</th>\n",
       "      <td>This</td>\n",
       "      <td>is</td>\n",
       "      <td>the</td>\n",
       "      <td>2nd</td>\n",
       "      <td>time</td>\n",
       "      <td>we</td>\n",
       "      <td>have</td>\n",
       "      <td>tried</td>\n",
       "      <td>2</td>\n",
       "      <td>contact</td>\n",
       "      <td>...</td>\n",
       "      <td>None</td>\n",
       "      <td>None</td>\n",
       "      <td>None</td>\n",
       "      <td>None</td>\n",
       "      <td>None</td>\n",
       "      <td>None</td>\n",
       "      <td>None</td>\n",
       "      <td>None</td>\n",
       "      <td>None</td>\n",
       "      <td>None</td>\n",
       "    </tr>\n",
       "    <tr>\n",
       "      <th>5568</th>\n",
       "      <td>Will</td>\n",
       "      <td>b</td>\n",
       "      <td>going</td>\n",
       "      <td>to</td>\n",
       "      <td>esplanade</td>\n",
       "      <td>fr</td>\n",
       "      <td>home?</td>\n",
       "      <td>None</td>\n",
       "      <td>None</td>\n",
       "      <td>None</td>\n",
       "      <td>...</td>\n",
       "      <td>None</td>\n",
       "      <td>None</td>\n",
       "      <td>None</td>\n",
       "      <td>None</td>\n",
       "      <td>None</td>\n",
       "      <td>None</td>\n",
       "      <td>None</td>\n",
       "      <td>None</td>\n",
       "      <td>None</td>\n",
       "      <td>None</td>\n",
       "    </tr>\n",
       "    <tr>\n",
       "      <th>5569</th>\n",
       "      <td>Pity,</td>\n",
       "      <td>*</td>\n",
       "      <td>was</td>\n",
       "      <td>in</td>\n",
       "      <td>mood</td>\n",
       "      <td>for</td>\n",
       "      <td>that.</td>\n",
       "      <td>So...any</td>\n",
       "      <td>other</td>\n",
       "      <td>suggestions?</td>\n",
       "      <td>...</td>\n",
       "      <td>None</td>\n",
       "      <td>None</td>\n",
       "      <td>None</td>\n",
       "      <td>None</td>\n",
       "      <td>None</td>\n",
       "      <td>None</td>\n",
       "      <td>None</td>\n",
       "      <td>None</td>\n",
       "      <td>None</td>\n",
       "      <td>None</td>\n",
       "    </tr>\n",
       "    <tr>\n",
       "      <th>5570</th>\n",
       "      <td>The</td>\n",
       "      <td>guy</td>\n",
       "      <td>did</td>\n",
       "      <td>some</td>\n",
       "      <td>bitching</td>\n",
       "      <td>but</td>\n",
       "      <td>I</td>\n",
       "      <td>acted</td>\n",
       "      <td>like</td>\n",
       "      <td>i'd</td>\n",
       "      <td>...</td>\n",
       "      <td>None</td>\n",
       "      <td>None</td>\n",
       "      <td>None</td>\n",
       "      <td>None</td>\n",
       "      <td>None</td>\n",
       "      <td>None</td>\n",
       "      <td>None</td>\n",
       "      <td>None</td>\n",
       "      <td>None</td>\n",
       "      <td>None</td>\n",
       "    </tr>\n",
       "    <tr>\n",
       "      <th>5571</th>\n",
       "      <td>Rofl.</td>\n",
       "      <td>Its</td>\n",
       "      <td>true</td>\n",
       "      <td>to</td>\n",
       "      <td>its</td>\n",
       "      <td>name</td>\n",
       "      <td>None</td>\n",
       "      <td>None</td>\n",
       "      <td>None</td>\n",
       "      <td>None</td>\n",
       "      <td>...</td>\n",
       "      <td>None</td>\n",
       "      <td>None</td>\n",
       "      <td>None</td>\n",
       "      <td>None</td>\n",
       "      <td>None</td>\n",
       "      <td>None</td>\n",
       "      <td>None</td>\n",
       "      <td>None</td>\n",
       "      <td>None</td>\n",
       "      <td>None</td>\n",
       "    </tr>\n",
       "  </tbody>\n",
       "</table>\n",
       "<p>5572 rows × 171 columns</p>\n",
       "</div>"
      ],
      "text/plain": [
       "        0       1       2       3          4          5      6         7    \\\n",
       "0        Go   until  jurong  point,    crazy..  Available   only        in   \n",
       "1        Ok  lar...  Joking     wif          u     oni...   None      None   \n",
       "2      Free   entry      in       2          a       wkly   comp        to   \n",
       "3         U     dun     say      so      early     hor...      U         c   \n",
       "4       Nah       I   don't   think         he       goes     to      usf,   \n",
       "...     ...     ...     ...     ...        ...        ...    ...       ...   \n",
       "5567   This      is     the     2nd       time         we   have     tried   \n",
       "5568   Will       b   going      to  esplanade         fr  home?      None   \n",
       "5569  Pity,       *     was      in       mood        for  that.  So...any   \n",
       "5570    The     guy     did    some   bitching        but      I     acted   \n",
       "5571  Rofl.     Its    true      to        its       name   None      None   \n",
       "\n",
       "          8             9    ...   161   162   163   164   165   166   167  \\\n",
       "0       bugis             n  ...  None  None  None  None  None  None  None   \n",
       "1        None          None  ...  None  None  None  None  None  None  None   \n",
       "2         win            FA  ...  None  None  None  None  None  None  None   \n",
       "3     already          then  ...  None  None  None  None  None  None  None   \n",
       "4          he         lives  ...  None  None  None  None  None  None  None   \n",
       "...       ...           ...  ...   ...   ...   ...   ...   ...   ...   ...   \n",
       "5567        2       contact  ...  None  None  None  None  None  None  None   \n",
       "5568     None          None  ...  None  None  None  None  None  None  None   \n",
       "5569    other  suggestions?  ...  None  None  None  None  None  None  None   \n",
       "5570     like           i'd  ...  None  None  None  None  None  None  None   \n",
       "5571     None          None  ...  None  None  None  None  None  None  None   \n",
       "\n",
       "       168   169   170  \n",
       "0     None  None  None  \n",
       "1     None  None  None  \n",
       "2     None  None  None  \n",
       "3     None  None  None  \n",
       "4     None  None  None  \n",
       "...    ...   ...   ...  \n",
       "5567  None  None  None  \n",
       "5568  None  None  None  \n",
       "5569  None  None  None  \n",
       "5570  None  None  None  \n",
       "5571  None  None  None  \n",
       "\n",
       "[5572 rows x 171 columns]"
      ]
     },
     "execution_count": 11,
     "metadata": {},
     "output_type": "execute_result"
    }
   ],
   "source": [
    "Email['Email'].str.split(expand=True)"
   ]
  },
  {
   "cell_type": "code",
   "execution_count": 35,
   "id": "e01f2299",
   "metadata": {},
   "outputs": [
    {
     "data": {
      "text/plain": [
       "171"
      ]
     },
     "execution_count": 35,
     "metadata": {},
     "output_type": "execute_result"
    }
   ],
   "source": [
    "Email['Email'].str.split().str.len().max()"
   ]
  },
  {
   "cell_type": "code",
   "execution_count": null,
   "id": "31478ba6",
   "metadata": {},
   "outputs": [],
   "source": []
  }
 ],
 "metadata": {
  "kernelspec": {
   "display_name": "Python 3 (ipykernel)",
   "language": "python",
   "name": "python3"
  },
  "language_info": {
   "codemirror_mode": {
    "name": "ipython",
    "version": 3
   },
   "file_extension": ".py",
   "mimetype": "text/x-python",
   "name": "python",
   "nbconvert_exporter": "python",
   "pygments_lexer": "ipython3",
   "version": "3.9.13"
  }
 },
 "nbformat": 4,
 "nbformat_minor": 5
}
